{
 "cells": [
  {
   "cell_type": "code",
   "execution_count": 530,
   "outputs": [],
   "source": [
    "# %pip install pandas\n",
    "# %pip install catboost\n",
    "# %pip install scikit-learn"
   ],
   "metadata": {
    "collapsed": false,
    "pycharm": {
     "name": "#%%\n"
    }
   }
  },
  {
   "cell_type": "code",
   "execution_count": 562,
   "outputs": [],
   "source": [
    "import pandas as pd\n",
    "from catboost import CatBoostRanker, Pool\n",
    "from sklearn.model_selection import StratifiedGroupKFold\n",
    "from time import time\n",
    "\n",
    "RANDOM_STATE = 42"
   ],
   "metadata": {
    "collapsed": false,
    "pycharm": {
     "name": "#%%\n"
    }
   }
  },
  {
   "cell_type": "markdown",
   "source": [
    "# Анализ данных"
   ],
   "metadata": {
    "collapsed": false,
    "pycharm": {
     "name": "#%% md\n"
    }
   }
  },
  {
   "cell_type": "code",
   "execution_count": 532,
   "outputs": [],
   "source": [
    "# Загрузим данные\n",
    "df_train = pd.read_csv('data/train_df.csv')\n",
    "df_test = pd.read_csv('data/test_df.csv')"
   ],
   "metadata": {
    "collapsed": false,
    "pycharm": {
     "name": "#%%\n"
    }
   }
  },
  {
   "cell_type": "code",
   "execution_count": 533,
   "outputs": [],
   "source": [
    "# Удалим дубликаты\n",
    "df_train.drop_duplicates(inplace=True)"
   ],
   "metadata": {
    "collapsed": false,
    "pycharm": {
     "name": "#%%\n"
    }
   }
  },
  {
   "cell_type": "code",
   "execution_count": 534,
   "outputs": [
    {
     "data": {
      "text/plain": "       search_id  feature_0  feature_1  feature_2  feature_3  feature_4  \\\n494        68329          9          0          0          1         20   \n5858       95736          9          0          0          1         20   \n12269     223642          9          0          0          1         20   \n8078      323285          9          0          0          1         20   \n8986      417635          9          0          6          1         20   \n8927      410765          9          0          0          0          9   \n13038     287085          9          0          0          1         20   \n5007        9450          9          1          1          1         20   \n10857      93233          9          0          0          1         20   \n2517      267916          9          0          0          1         20   \n\n       feature_5  feature_6  feature_7  feature_8  ...  feature_70  \\\n494            4         13          0          2  ...    0.256151   \n5858           4         43          0          6  ...    0.249243   \n12269          4         25          0          2  ...    0.220518   \n8078           4         40          0          3  ...    0.197140   \n8986           4         36          0          2  ...    0.183096   \n8927           4         47          0          0  ...    0.279491   \n13038          4         46          0          2  ...    0.193692   \n5007           4         38          2          3  ...    0.338540   \n10857          4         25          0          0  ...    0.178884   \n2517           4         34          0          0  ...    0.271808   \n\n       feature_71  feature_72  feature_73  feature_74  feature_75  feature_76  \\\n494      0.819359    0.209880           0           0           0     0.70751   \n5858     0.328518    0.081881           0           0           0     0.10866   \n12269    0.407928    0.089955           0           0           0     0.33472   \n8078     0.408737    0.080579           0           0           0     0.88694   \n8986     0.401529    0.073518           0           0           0     0.68908   \n8927     0.522791    0.146115           0           0           0     0.07308   \n13038    0.474438    0.091895           0           0           0     0.07308   \n5007     0.638717    0.216231           0           0           0     0.54849   \n10857    0.543217    0.097173           0           0           0     0.27376   \n2517     0.602927    0.163880           0           0           0     0.07308   \n\n       feature_77  feature_78  target  \n494           0.0         0.0       0  \n5858          0.0         0.0       0  \n12269         0.0         0.0       0  \n8078          0.0         0.0       0  \n8986          0.0         0.0       0  \n8927          0.0         0.0       1  \n13038         0.0         0.0       0  \n5007          0.0         0.0       0  \n10857         0.0         0.0       0  \n2517          0.0         0.0       0  \n\n[10 rows x 81 columns]",
      "text/html": "<div>\n<style scoped>\n    .dataframe tbody tr th:only-of-type {\n        vertical-align: middle;\n    }\n\n    .dataframe tbody tr th {\n        vertical-align: top;\n    }\n\n    .dataframe thead th {\n        text-align: right;\n    }\n</style>\n<table border=\"1\" class=\"dataframe\">\n  <thead>\n    <tr style=\"text-align: right;\">\n      <th></th>\n      <th>search_id</th>\n      <th>feature_0</th>\n      <th>feature_1</th>\n      <th>feature_2</th>\n      <th>feature_3</th>\n      <th>feature_4</th>\n      <th>feature_5</th>\n      <th>feature_6</th>\n      <th>feature_7</th>\n      <th>feature_8</th>\n      <th>...</th>\n      <th>feature_70</th>\n      <th>feature_71</th>\n      <th>feature_72</th>\n      <th>feature_73</th>\n      <th>feature_74</th>\n      <th>feature_75</th>\n      <th>feature_76</th>\n      <th>feature_77</th>\n      <th>feature_78</th>\n      <th>target</th>\n    </tr>\n  </thead>\n  <tbody>\n    <tr>\n      <th>494</th>\n      <td>68329</td>\n      <td>9</td>\n      <td>0</td>\n      <td>0</td>\n      <td>1</td>\n      <td>20</td>\n      <td>4</td>\n      <td>13</td>\n      <td>0</td>\n      <td>2</td>\n      <td>...</td>\n      <td>0.256151</td>\n      <td>0.819359</td>\n      <td>0.209880</td>\n      <td>0</td>\n      <td>0</td>\n      <td>0</td>\n      <td>0.70751</td>\n      <td>0.0</td>\n      <td>0.0</td>\n      <td>0</td>\n    </tr>\n    <tr>\n      <th>5858</th>\n      <td>95736</td>\n      <td>9</td>\n      <td>0</td>\n      <td>0</td>\n      <td>1</td>\n      <td>20</td>\n      <td>4</td>\n      <td>43</td>\n      <td>0</td>\n      <td>6</td>\n      <td>...</td>\n      <td>0.249243</td>\n      <td>0.328518</td>\n      <td>0.081881</td>\n      <td>0</td>\n      <td>0</td>\n      <td>0</td>\n      <td>0.10866</td>\n      <td>0.0</td>\n      <td>0.0</td>\n      <td>0</td>\n    </tr>\n    <tr>\n      <th>12269</th>\n      <td>223642</td>\n      <td>9</td>\n      <td>0</td>\n      <td>0</td>\n      <td>1</td>\n      <td>20</td>\n      <td>4</td>\n      <td>25</td>\n      <td>0</td>\n      <td>2</td>\n      <td>...</td>\n      <td>0.220518</td>\n      <td>0.407928</td>\n      <td>0.089955</td>\n      <td>0</td>\n      <td>0</td>\n      <td>0</td>\n      <td>0.33472</td>\n      <td>0.0</td>\n      <td>0.0</td>\n      <td>0</td>\n    </tr>\n    <tr>\n      <th>8078</th>\n      <td>323285</td>\n      <td>9</td>\n      <td>0</td>\n      <td>0</td>\n      <td>1</td>\n      <td>20</td>\n      <td>4</td>\n      <td>40</td>\n      <td>0</td>\n      <td>3</td>\n      <td>...</td>\n      <td>0.197140</td>\n      <td>0.408737</td>\n      <td>0.080579</td>\n      <td>0</td>\n      <td>0</td>\n      <td>0</td>\n      <td>0.88694</td>\n      <td>0.0</td>\n      <td>0.0</td>\n      <td>0</td>\n    </tr>\n    <tr>\n      <th>8986</th>\n      <td>417635</td>\n      <td>9</td>\n      <td>0</td>\n      <td>6</td>\n      <td>1</td>\n      <td>20</td>\n      <td>4</td>\n      <td>36</td>\n      <td>0</td>\n      <td>2</td>\n      <td>...</td>\n      <td>0.183096</td>\n      <td>0.401529</td>\n      <td>0.073518</td>\n      <td>0</td>\n      <td>0</td>\n      <td>0</td>\n      <td>0.68908</td>\n      <td>0.0</td>\n      <td>0.0</td>\n      <td>0</td>\n    </tr>\n    <tr>\n      <th>8927</th>\n      <td>410765</td>\n      <td>9</td>\n      <td>0</td>\n      <td>0</td>\n      <td>0</td>\n      <td>9</td>\n      <td>4</td>\n      <td>47</td>\n      <td>0</td>\n      <td>0</td>\n      <td>...</td>\n      <td>0.279491</td>\n      <td>0.522791</td>\n      <td>0.146115</td>\n      <td>0</td>\n      <td>0</td>\n      <td>0</td>\n      <td>0.07308</td>\n      <td>0.0</td>\n      <td>0.0</td>\n      <td>1</td>\n    </tr>\n    <tr>\n      <th>13038</th>\n      <td>287085</td>\n      <td>9</td>\n      <td>0</td>\n      <td>0</td>\n      <td>1</td>\n      <td>20</td>\n      <td>4</td>\n      <td>46</td>\n      <td>0</td>\n      <td>2</td>\n      <td>...</td>\n      <td>0.193692</td>\n      <td>0.474438</td>\n      <td>0.091895</td>\n      <td>0</td>\n      <td>0</td>\n      <td>0</td>\n      <td>0.07308</td>\n      <td>0.0</td>\n      <td>0.0</td>\n      <td>0</td>\n    </tr>\n    <tr>\n      <th>5007</th>\n      <td>9450</td>\n      <td>9</td>\n      <td>1</td>\n      <td>1</td>\n      <td>1</td>\n      <td>20</td>\n      <td>4</td>\n      <td>38</td>\n      <td>2</td>\n      <td>3</td>\n      <td>...</td>\n      <td>0.338540</td>\n      <td>0.638717</td>\n      <td>0.216231</td>\n      <td>0</td>\n      <td>0</td>\n      <td>0</td>\n      <td>0.54849</td>\n      <td>0.0</td>\n      <td>0.0</td>\n      <td>0</td>\n    </tr>\n    <tr>\n      <th>10857</th>\n      <td>93233</td>\n      <td>9</td>\n      <td>0</td>\n      <td>0</td>\n      <td>1</td>\n      <td>20</td>\n      <td>4</td>\n      <td>25</td>\n      <td>0</td>\n      <td>0</td>\n      <td>...</td>\n      <td>0.178884</td>\n      <td>0.543217</td>\n      <td>0.097173</td>\n      <td>0</td>\n      <td>0</td>\n      <td>0</td>\n      <td>0.27376</td>\n      <td>0.0</td>\n      <td>0.0</td>\n      <td>0</td>\n    </tr>\n    <tr>\n      <th>2517</th>\n      <td>267916</td>\n      <td>9</td>\n      <td>0</td>\n      <td>0</td>\n      <td>1</td>\n      <td>20</td>\n      <td>4</td>\n      <td>34</td>\n      <td>0</td>\n      <td>0</td>\n      <td>...</td>\n      <td>0.271808</td>\n      <td>0.602927</td>\n      <td>0.163880</td>\n      <td>0</td>\n      <td>0</td>\n      <td>0</td>\n      <td>0.07308</td>\n      <td>0.0</td>\n      <td>0.0</td>\n      <td>0</td>\n    </tr>\n  </tbody>\n</table>\n<p>10 rows × 81 columns</p>\n</div>"
     },
     "execution_count": 534,
     "metadata": {},
     "output_type": "execute_result"
    }
   ],
   "source": [
    "#Посмотрим на датасет\n",
    "df_train.sample(10)"
   ],
   "metadata": {
    "collapsed": false,
    "pycharm": {
     "name": "#%%\n"
    }
   }
  },
  {
   "cell_type": "markdown",
   "source": [
    "Оценки ранжирования представлены бинарными значениями 0 и 1."
   ],
   "metadata": {
    "collapsed": false,
    "pycharm": {
     "name": "#%% md\n"
    }
   }
  },
  {
   "cell_type": "code",
   "execution_count": 535,
   "outputs": [
    {
     "data": {
      "text/plain": "           search_id  feature_0    feature_1     feature_2     feature_3  \\\ncount   15069.000000    15069.0  15069.00000  15069.000000  15069.000000   \nmean   254801.947641        9.0      0.19351      0.463999      0.630168   \nstd    142377.307514        0.0      0.62605      1.182782      0.482775   \nmin       116.000000        9.0      0.00000      0.000000      0.000000   \n25%    134823.000000        9.0      0.00000      0.000000      0.000000   \n50%    255859.000000        9.0      0.00000      0.000000      1.000000   \n75%    376175.000000        9.0      0.00000      0.000000      1.000000   \nmax    496975.000000        9.0      3.00000      6.000000      1.000000   \n\n          feature_4     feature_5     feature_6     feature_7     feature_8  \\\ncount  15069.000000  15069.000000  15069.000000  15069.000000  15069.000000   \nmean      15.931847      3.876302     33.807685      1.210764      1.792023   \nstd        5.310526      0.469923     11.312467      2.234444      1.883771   \nmin        9.000000      0.000000      0.000000      0.000000      0.000000   \n25%        9.000000      4.000000     26.000000      0.000000      0.000000   \n50%       20.000000      4.000000     34.000000      0.000000      2.000000   \n75%       20.000000      4.000000     44.000000      1.000000      3.000000   \nmax       20.000000      6.000000     49.000000      7.000000      7.000000   \n\n       ...    feature_70    feature_71    feature_72  feature_73  feature_74  \\\ncount  ...  15069.000000  15069.000000  15069.000000     15069.0     15069.0   \nmean   ...      0.199704      0.426882      0.096538         0.0         0.0   \nstd    ...      0.088580      0.247193      0.063289         0.0         0.0   \nmin    ...      0.000000      0.000000      0.000000         0.0         0.0   \n25%    ...      0.168716      0.255757      0.052735         0.0         0.0   \n50%    ...      0.212826      0.431185      0.091782         0.0         0.0   \n75%    ...      0.253881      0.603934      0.136083         0.0         0.0   \nmax    ...      0.485510      0.999072      0.411563         0.0         0.0   \n\n       feature_75    feature_76    feature_77    feature_78        target  \ncount     15069.0  15069.000000  15069.000000  15069.000000  15069.000000  \nmean          0.0      0.297702      0.030567      0.031232      0.021368  \nstd           0.0      0.311973      0.113026      0.115641      0.144614  \nmin           0.0      0.000000      0.000000      0.000000      0.000000  \n25%           0.0      0.036740      0.000000      0.000000      0.000000  \n50%           0.0      0.176140      0.000000      0.000000      0.000000  \n75%           0.0      0.529630      0.000000      0.000000      0.000000  \nmax           0.0      1.000020      0.846272      0.908132      1.000000  \n\n[8 rows x 81 columns]",
      "text/html": "<div>\n<style scoped>\n    .dataframe tbody tr th:only-of-type {\n        vertical-align: middle;\n    }\n\n    .dataframe tbody tr th {\n        vertical-align: top;\n    }\n\n    .dataframe thead th {\n        text-align: right;\n    }\n</style>\n<table border=\"1\" class=\"dataframe\">\n  <thead>\n    <tr style=\"text-align: right;\">\n      <th></th>\n      <th>search_id</th>\n      <th>feature_0</th>\n      <th>feature_1</th>\n      <th>feature_2</th>\n      <th>feature_3</th>\n      <th>feature_4</th>\n      <th>feature_5</th>\n      <th>feature_6</th>\n      <th>feature_7</th>\n      <th>feature_8</th>\n      <th>...</th>\n      <th>feature_70</th>\n      <th>feature_71</th>\n      <th>feature_72</th>\n      <th>feature_73</th>\n      <th>feature_74</th>\n      <th>feature_75</th>\n      <th>feature_76</th>\n      <th>feature_77</th>\n      <th>feature_78</th>\n      <th>target</th>\n    </tr>\n  </thead>\n  <tbody>\n    <tr>\n      <th>count</th>\n      <td>15069.000000</td>\n      <td>15069.0</td>\n      <td>15069.00000</td>\n      <td>15069.000000</td>\n      <td>15069.000000</td>\n      <td>15069.000000</td>\n      <td>15069.000000</td>\n      <td>15069.000000</td>\n      <td>15069.000000</td>\n      <td>15069.000000</td>\n      <td>...</td>\n      <td>15069.000000</td>\n      <td>15069.000000</td>\n      <td>15069.000000</td>\n      <td>15069.0</td>\n      <td>15069.0</td>\n      <td>15069.0</td>\n      <td>15069.000000</td>\n      <td>15069.000000</td>\n      <td>15069.000000</td>\n      <td>15069.000000</td>\n    </tr>\n    <tr>\n      <th>mean</th>\n      <td>254801.947641</td>\n      <td>9.0</td>\n      <td>0.19351</td>\n      <td>0.463999</td>\n      <td>0.630168</td>\n      <td>15.931847</td>\n      <td>3.876302</td>\n      <td>33.807685</td>\n      <td>1.210764</td>\n      <td>1.792023</td>\n      <td>...</td>\n      <td>0.199704</td>\n      <td>0.426882</td>\n      <td>0.096538</td>\n      <td>0.0</td>\n      <td>0.0</td>\n      <td>0.0</td>\n      <td>0.297702</td>\n      <td>0.030567</td>\n      <td>0.031232</td>\n      <td>0.021368</td>\n    </tr>\n    <tr>\n      <th>std</th>\n      <td>142377.307514</td>\n      <td>0.0</td>\n      <td>0.62605</td>\n      <td>1.182782</td>\n      <td>0.482775</td>\n      <td>5.310526</td>\n      <td>0.469923</td>\n      <td>11.312467</td>\n      <td>2.234444</td>\n      <td>1.883771</td>\n      <td>...</td>\n      <td>0.088580</td>\n      <td>0.247193</td>\n      <td>0.063289</td>\n      <td>0.0</td>\n      <td>0.0</td>\n      <td>0.0</td>\n      <td>0.311973</td>\n      <td>0.113026</td>\n      <td>0.115641</td>\n      <td>0.144614</td>\n    </tr>\n    <tr>\n      <th>min</th>\n      <td>116.000000</td>\n      <td>9.0</td>\n      <td>0.00000</td>\n      <td>0.000000</td>\n      <td>0.000000</td>\n      <td>9.000000</td>\n      <td>0.000000</td>\n      <td>0.000000</td>\n      <td>0.000000</td>\n      <td>0.000000</td>\n      <td>...</td>\n      <td>0.000000</td>\n      <td>0.000000</td>\n      <td>0.000000</td>\n      <td>0.0</td>\n      <td>0.0</td>\n      <td>0.0</td>\n      <td>0.000000</td>\n      <td>0.000000</td>\n      <td>0.000000</td>\n      <td>0.000000</td>\n    </tr>\n    <tr>\n      <th>25%</th>\n      <td>134823.000000</td>\n      <td>9.0</td>\n      <td>0.00000</td>\n      <td>0.000000</td>\n      <td>0.000000</td>\n      <td>9.000000</td>\n      <td>4.000000</td>\n      <td>26.000000</td>\n      <td>0.000000</td>\n      <td>0.000000</td>\n      <td>...</td>\n      <td>0.168716</td>\n      <td>0.255757</td>\n      <td>0.052735</td>\n      <td>0.0</td>\n      <td>0.0</td>\n      <td>0.0</td>\n      <td>0.036740</td>\n      <td>0.000000</td>\n      <td>0.000000</td>\n      <td>0.000000</td>\n    </tr>\n    <tr>\n      <th>50%</th>\n      <td>255859.000000</td>\n      <td>9.0</td>\n      <td>0.00000</td>\n      <td>0.000000</td>\n      <td>1.000000</td>\n      <td>20.000000</td>\n      <td>4.000000</td>\n      <td>34.000000</td>\n      <td>0.000000</td>\n      <td>2.000000</td>\n      <td>...</td>\n      <td>0.212826</td>\n      <td>0.431185</td>\n      <td>0.091782</td>\n      <td>0.0</td>\n      <td>0.0</td>\n      <td>0.0</td>\n      <td>0.176140</td>\n      <td>0.000000</td>\n      <td>0.000000</td>\n      <td>0.000000</td>\n    </tr>\n    <tr>\n      <th>75%</th>\n      <td>376175.000000</td>\n      <td>9.0</td>\n      <td>0.00000</td>\n      <td>0.000000</td>\n      <td>1.000000</td>\n      <td>20.000000</td>\n      <td>4.000000</td>\n      <td>44.000000</td>\n      <td>1.000000</td>\n      <td>3.000000</td>\n      <td>...</td>\n      <td>0.253881</td>\n      <td>0.603934</td>\n      <td>0.136083</td>\n      <td>0.0</td>\n      <td>0.0</td>\n      <td>0.0</td>\n      <td>0.529630</td>\n      <td>0.000000</td>\n      <td>0.000000</td>\n      <td>0.000000</td>\n    </tr>\n    <tr>\n      <th>max</th>\n      <td>496975.000000</td>\n      <td>9.0</td>\n      <td>3.00000</td>\n      <td>6.000000</td>\n      <td>1.000000</td>\n      <td>20.000000</td>\n      <td>6.000000</td>\n      <td>49.000000</td>\n      <td>7.000000</td>\n      <td>7.000000</td>\n      <td>...</td>\n      <td>0.485510</td>\n      <td>0.999072</td>\n      <td>0.411563</td>\n      <td>0.0</td>\n      <td>0.0</td>\n      <td>0.0</td>\n      <td>1.000020</td>\n      <td>0.846272</td>\n      <td>0.908132</td>\n      <td>1.000000</td>\n    </tr>\n  </tbody>\n</table>\n<p>8 rows × 81 columns</p>\n</div>"
     },
     "execution_count": 535,
     "metadata": {},
     "output_type": "execute_result"
    }
   ],
   "source": [
    "df_train.describe()"
   ],
   "metadata": {
    "collapsed": false,
    "pycharm": {
     "name": "#%%\n"
    }
   }
  },
  {
   "cell_type": "code",
   "execution_count": 630,
   "outputs": [
    {
     "name": "stdout",
     "output_type": "stream",
     "text": [
      "<class 'pandas.core.frame.DataFrame'>\n",
      "Index: 15069 entries, 0 to 15080\n",
      "Data columns (total 77 columns):\n",
      " #   Column      Non-Null Count  Dtype  \n",
      "---  ------      --------------  -----  \n",
      " 0   search_id   15069 non-null  int64  \n",
      " 1   feature_1   15069 non-null  int64  \n",
      " 2   feature_2   15069 non-null  int64  \n",
      " 3   feature_3   15069 non-null  int64  \n",
      " 4   feature_4   15069 non-null  int64  \n",
      " 5   feature_5   15069 non-null  int64  \n",
      " 6   feature_6   15069 non-null  int64  \n",
      " 7   feature_7   15069 non-null  int64  \n",
      " 8   feature_8   15069 non-null  int64  \n",
      " 9   feature_9   15069 non-null  int64  \n",
      " 10  feature_10  15069 non-null  int64  \n",
      " 11  feature_11  15069 non-null  int64  \n",
      " 12  feature_12  15069 non-null  int64  \n",
      " 13  feature_13  15069 non-null  int64  \n",
      " 14  feature_14  15069 non-null  int64  \n",
      " 15  feature_15  15069 non-null  int64  \n",
      " 16  feature_16  15069 non-null  float64\n",
      " 17  feature_17  15069 non-null  float64\n",
      " 18  feature_18  15069 non-null  float64\n",
      " 19  feature_19  15069 non-null  float64\n",
      " 20  feature_20  15069 non-null  float64\n",
      " 21  feature_21  15069 non-null  float64\n",
      " 22  feature_22  15069 non-null  float64\n",
      " 23  feature_23  15069 non-null  float64\n",
      " 24  feature_24  15069 non-null  float64\n",
      " 25  feature_25  15069 non-null  float64\n",
      " 26  feature_26  15069 non-null  float64\n",
      " 27  feature_27  15069 non-null  float64\n",
      " 28  feature_28  15069 non-null  float64\n",
      " 29  feature_29  15069 non-null  float64\n",
      " 30  feature_30  15069 non-null  float64\n",
      " 31  feature_31  15069 non-null  float64\n",
      " 32  feature_32  15069 non-null  float64\n",
      " 33  feature_33  15069 non-null  float64\n",
      " 34  feature_34  15069 non-null  float64\n",
      " 35  feature_35  15069 non-null  float64\n",
      " 36  feature_36  15069 non-null  float64\n",
      " 37  feature_37  15069 non-null  float64\n",
      " 38  feature_38  15069 non-null  float64\n",
      " 39  feature_39  15069 non-null  float64\n",
      " 40  feature_40  15069 non-null  float64\n",
      " 41  feature_41  15069 non-null  float64\n",
      " 42  feature_42  15069 non-null  float64\n",
      " 43  feature_43  15069 non-null  float64\n",
      " 44  feature_44  15069 non-null  float64\n",
      " 45  feature_45  15069 non-null  float64\n",
      " 46  feature_46  15069 non-null  float64\n",
      " 47  feature_47  15069 non-null  float64\n",
      " 48  feature_48  15069 non-null  float64\n",
      " 49  feature_49  15069 non-null  float64\n",
      " 50  feature_50  15069 non-null  float64\n",
      " 51  feature_51  15069 non-null  float64\n",
      " 52  feature_52  15069 non-null  float64\n",
      " 53  feature_53  15069 non-null  float64\n",
      " 54  feature_54  15069 non-null  float64\n",
      " 55  feature_55  15069 non-null  float64\n",
      " 56  feature_56  15069 non-null  float64\n",
      " 57  feature_57  15069 non-null  float64\n",
      " 58  feature_58  15069 non-null  float64\n",
      " 59  feature_59  15069 non-null  float64\n",
      " 60  feature_60  15069 non-null  float64\n",
      " 61  feature_61  15069 non-null  float64\n",
      " 62  feature_62  15069 non-null  float64\n",
      " 63  feature_63  15069 non-null  float64\n",
      " 64  feature_64  15069 non-null  float64\n",
      " 65  feature_65  15069 non-null  float64\n",
      " 66  feature_66  15069 non-null  float64\n",
      " 67  feature_67  15069 non-null  float64\n",
      " 68  feature_68  15069 non-null  float64\n",
      " 69  feature_69  15069 non-null  float64\n",
      " 70  feature_70  15069 non-null  float64\n",
      " 71  feature_71  15069 non-null  float64\n",
      " 72  feature_72  15069 non-null  float64\n",
      " 73  feature_76  15069 non-null  float64\n",
      " 74  feature_77  15069 non-null  float64\n",
      " 75  feature_78  15069 non-null  float64\n",
      " 76  target      15069 non-null  int64  \n",
      "dtypes: float64(60), int64(17)\n",
      "memory usage: 9.0 MB\n"
     ]
    }
   ],
   "source": [
    "df_train.info()"
   ],
   "metadata": {
    "collapsed": false,
    "pycharm": {
     "name": "#%%\n"
    }
   }
  },
  {
   "cell_type": "markdown",
   "source": [
    "В train датасете присутствуют строки с константным значением."
   ],
   "metadata": {
    "collapsed": false,
    "pycharm": {
     "name": "#%% md\n"
    }
   }
  },
  {
   "cell_type": "code",
   "execution_count": 536,
   "outputs": [
    {
     "data": {
      "text/plain": "feature_0     1\nfeature_73    1\nfeature_74    1\nfeature_75    1\ndtype: int64"
     },
     "execution_count": 536,
     "metadata": {},
     "output_type": "execute_result"
    }
   ],
   "source": [
    "df_train.nunique()[df_train.nunique() == 1]"
   ],
   "metadata": {
    "collapsed": false,
    "pycharm": {
     "name": "#%%\n"
    }
   }
  },
  {
   "cell_type": "code",
   "execution_count": 537,
   "outputs": [],
   "source": [
    "# Удалим их\n",
    "df_train.drop(columns=['feature_0', 'feature_73', 'feature_74', 'feature_75'],\n",
    "              inplace=True)"
   ],
   "metadata": {
    "collapsed": false,
    "pycharm": {
     "name": "#%%\n"
    }
   }
  },
  {
   "cell_type": "code",
   "execution_count": 538,
   "outputs": [
    {
     "data": {
      "text/plain": "[0, 1, 2, 4, 3, 5]"
     },
     "execution_count": 538,
     "metadata": {},
     "output_type": "execute_result"
    }
   ],
   "source": [
    "# Посмотрим, сколько на каждый запрос может быть рекомендовано документов\n",
    "df_train.groupby('search_id').sum()['target'].unique().tolist()"
   ],
   "metadata": {
    "collapsed": false,
    "pycharm": {
     "name": "#%%\n"
    }
   }
  },
  {
   "cell_type": "markdown",
   "source": [
    "В обучающей выборке наблюдается от 0 до 5 рекомендованных значений."
   ],
   "metadata": {
    "collapsed": false,
    "pycharm": {
     "name": "#%% md\n"
    }
   }
  },
  {
   "cell_type": "code",
   "execution_count": 539,
   "outputs": [
    {
     "data": {
      "text/plain": "97.86316278452452"
     },
     "execution_count": 539,
     "metadata": {},
     "output_type": "execute_result"
    }
   ],
   "source": [
    "# Посмотрим на баланс классов\n",
    "100 * len(df_train[df_train['target'] == 0]['target'])/len(df_train)"
   ],
   "metadata": {
    "collapsed": false,
    "pycharm": {
     "name": "#%%\n"
    }
   }
  },
  {
   "cell_type": "markdown",
   "source": [
    "Наблюдается сильный дисбаланс рекоммендаций - почти 98% значений не рекомендовано к выдаче."
   ],
   "metadata": {
    "collapsed": false,
    "pycharm": {
     "name": "#%% md\n"
    }
   }
  },
  {
   "cell_type": "code",
   "execution_count": 540,
   "outputs": [
    {
     "data": {
      "text/plain": "       feature_1  feature_2  feature_3  feature_4  feature_5  feature_7  \\\n6742           0          0          1         20          4          0   \n12851          0          1          0          9          4          0   \n13344          0          0          1         20          4          0   \n5840           0          0          1         20          4          0   \n10765          0          0          0          9          4          0   \n14821          0          0          0          9          4          0   \n4958           0          5          0          9          4          0   \n2583           0          0          0          9          4          0   \n1141           0          0          1         20          4          0   \n5728           0          0          0          9          4          0   \n\n       feature_8  feature_9  feature_10  feature_11  feature_12  feature_13  \\\n6742           0          1           0           0           0           0   \n12851          2          1           0           0           0           0   \n13344          2          1           0           0           0           0   \n5840           0          1           0           0           0           0   \n10765          4          1           0           0           0           0   \n14821          4          1           0           1           1           0   \n4958           0          1           0           0           0           0   \n2583           3          1           1           0           1           0   \n1141           1          0           0           1           0           0   \n5728           3          1           0           0           0           1   \n\n       feature_14  feature_15  \n6742            0           0  \n12851           0           0  \n13344           1           0  \n5840            0           0  \n10765           1           0  \n14821           0           0  \n4958            1           0  \n2583            1           0  \n1141            0           0  \n5728            1           0  ",
      "text/html": "<div>\n<style scoped>\n    .dataframe tbody tr th:only-of-type {\n        vertical-align: middle;\n    }\n\n    .dataframe tbody tr th {\n        vertical-align: top;\n    }\n\n    .dataframe thead th {\n        text-align: right;\n    }\n</style>\n<table border=\"1\" class=\"dataframe\">\n  <thead>\n    <tr style=\"text-align: right;\">\n      <th></th>\n      <th>feature_1</th>\n      <th>feature_2</th>\n      <th>feature_3</th>\n      <th>feature_4</th>\n      <th>feature_5</th>\n      <th>feature_7</th>\n      <th>feature_8</th>\n      <th>feature_9</th>\n      <th>feature_10</th>\n      <th>feature_11</th>\n      <th>feature_12</th>\n      <th>feature_13</th>\n      <th>feature_14</th>\n      <th>feature_15</th>\n    </tr>\n  </thead>\n  <tbody>\n    <tr>\n      <th>6742</th>\n      <td>0</td>\n      <td>0</td>\n      <td>1</td>\n      <td>20</td>\n      <td>4</td>\n      <td>0</td>\n      <td>0</td>\n      <td>1</td>\n      <td>0</td>\n      <td>0</td>\n      <td>0</td>\n      <td>0</td>\n      <td>0</td>\n      <td>0</td>\n    </tr>\n    <tr>\n      <th>12851</th>\n      <td>0</td>\n      <td>1</td>\n      <td>0</td>\n      <td>9</td>\n      <td>4</td>\n      <td>0</td>\n      <td>2</td>\n      <td>1</td>\n      <td>0</td>\n      <td>0</td>\n      <td>0</td>\n      <td>0</td>\n      <td>0</td>\n      <td>0</td>\n    </tr>\n    <tr>\n      <th>13344</th>\n      <td>0</td>\n      <td>0</td>\n      <td>1</td>\n      <td>20</td>\n      <td>4</td>\n      <td>0</td>\n      <td>2</td>\n      <td>1</td>\n      <td>0</td>\n      <td>0</td>\n      <td>0</td>\n      <td>0</td>\n      <td>1</td>\n      <td>0</td>\n    </tr>\n    <tr>\n      <th>5840</th>\n      <td>0</td>\n      <td>0</td>\n      <td>1</td>\n      <td>20</td>\n      <td>4</td>\n      <td>0</td>\n      <td>0</td>\n      <td>1</td>\n      <td>0</td>\n      <td>0</td>\n      <td>0</td>\n      <td>0</td>\n      <td>0</td>\n      <td>0</td>\n    </tr>\n    <tr>\n      <th>10765</th>\n      <td>0</td>\n      <td>0</td>\n      <td>0</td>\n      <td>9</td>\n      <td>4</td>\n      <td>0</td>\n      <td>4</td>\n      <td>1</td>\n      <td>0</td>\n      <td>0</td>\n      <td>0</td>\n      <td>0</td>\n      <td>1</td>\n      <td>0</td>\n    </tr>\n    <tr>\n      <th>14821</th>\n      <td>0</td>\n      <td>0</td>\n      <td>0</td>\n      <td>9</td>\n      <td>4</td>\n      <td>0</td>\n      <td>4</td>\n      <td>1</td>\n      <td>0</td>\n      <td>1</td>\n      <td>1</td>\n      <td>0</td>\n      <td>0</td>\n      <td>0</td>\n    </tr>\n    <tr>\n      <th>4958</th>\n      <td>0</td>\n      <td>5</td>\n      <td>0</td>\n      <td>9</td>\n      <td>4</td>\n      <td>0</td>\n      <td>0</td>\n      <td>1</td>\n      <td>0</td>\n      <td>0</td>\n      <td>0</td>\n      <td>0</td>\n      <td>1</td>\n      <td>0</td>\n    </tr>\n    <tr>\n      <th>2583</th>\n      <td>0</td>\n      <td>0</td>\n      <td>0</td>\n      <td>9</td>\n      <td>4</td>\n      <td>0</td>\n      <td>3</td>\n      <td>1</td>\n      <td>1</td>\n      <td>0</td>\n      <td>1</td>\n      <td>0</td>\n      <td>1</td>\n      <td>0</td>\n    </tr>\n    <tr>\n      <th>1141</th>\n      <td>0</td>\n      <td>0</td>\n      <td>1</td>\n      <td>20</td>\n      <td>4</td>\n      <td>0</td>\n      <td>1</td>\n      <td>0</td>\n      <td>0</td>\n      <td>1</td>\n      <td>0</td>\n      <td>0</td>\n      <td>0</td>\n      <td>0</td>\n    </tr>\n    <tr>\n      <th>5728</th>\n      <td>0</td>\n      <td>0</td>\n      <td>0</td>\n      <td>9</td>\n      <td>4</td>\n      <td>0</td>\n      <td>3</td>\n      <td>1</td>\n      <td>0</td>\n      <td>0</td>\n      <td>0</td>\n      <td>1</td>\n      <td>1</td>\n      <td>0</td>\n    </tr>\n  </tbody>\n</table>\n</div>"
     },
     "execution_count": 540,
     "metadata": {},
     "output_type": "execute_result"
    }
   ],
   "source": [
    "# Посмотрим на признаки, которые имеют до 10 уникальных значений\n",
    "probably_categorical_list = df_train.nunique()[df_train.nunique() < 10].index.tolist()[:-1:]\n",
    "df_train[probably_categorical_list].sample(10)"
   ],
   "metadata": {
    "collapsed": false,
    "pycharm": {
     "name": "#%%\n"
    }
   }
  },
  {
   "cell_type": "markdown",
   "source": [
    "Признаки, которые имеют до 10 уникальных значений и тип int64, скорее всего являются категориальными\n",
    "Датасет выглядит чисто, очевидных ошибок не наблюдается."
   ],
   "metadata": {
    "collapsed": false,
    "pycharm": {
     "name": "#%% md\n"
    }
   }
  },
  {
   "cell_type": "code",
   "execution_count": 541,
   "outputs": [],
   "source": [
    "# Аналогично обработаем test\n",
    "df_test.drop(columns=['feature_0', 'feature_73', 'feature_74', 'feature_75'],\n",
    "             inplace=True)"
   ],
   "metadata": {
    "collapsed": false,
    "pycharm": {
     "name": "#%%\n"
    }
   }
  },
  {
   "cell_type": "markdown",
   "source": [
    "# Построение модели"
   ],
   "metadata": {
    "collapsed": false,
    "pycharm": {
     "name": "#%% md\n"
    }
   }
  },
  {
   "cell_type": "markdown",
   "source": [
    "Для создания модели ранжирования воспользуемся CatBoostRanker."
   ],
   "metadata": {
    "collapsed": false,
    "pycharm": {
     "name": "#%% md\n"
    }
   }
  },
  {
   "cell_type": "code",
   "execution_count": 631,
   "outputs": [],
   "source": [
    "# Отделим таргеты\n",
    "X = df_train.copy()\n",
    "y = X.pop('target')\n",
    "\n",
    "X_test = df_test.copy()\n",
    "y_test = X_test.pop('target')"
   ],
   "metadata": {
    "collapsed": false,
    "pycharm": {
     "name": "#%%\n"
    }
   }
  },
  {
   "cell_type": "markdown",
   "source": [
    "Создадим валидационный датасет для подбора гиперпараметров. Используем стратификацию и GroupKFold для того, чтобы обеспечить одинаковое распределения таргета в тестовой и валидационной выборках, а также для того, чтобы запросы (queries) не разбивались во время сплита и целиком входили либо в train, либо в val."
   ],
   "metadata": {
    "collapsed": false,
    "pycharm": {
     "name": "#%% md\n"
    }
   }
  },
  {
   "cell_type": "code",
   "execution_count": 547,
   "outputs": [],
   "source": [
    "# Создадим валидационный датасет для подбора гиперпараметров\n",
    "sgkf = StratifiedGroupKFold(n_splits=5)\n",
    "\n",
    "groups = X['search_id'].tolist()\n",
    "g = sgkf.split(X, y, groups)\n",
    "\n",
    "# Берем первый фолд - так обеспечивается распределение 80/20\n",
    "# val включает в себя ~3к значений, что вдвое больше теста\n",
    "train_idx, val_idx = next(g)\n",
    "X_train, X_val = X.iloc[train_idx], X.iloc[val_idx]\n",
    "y_train, y_val = y.iloc[train_idx], y.iloc[val_idx]"
   ],
   "metadata": {
    "collapsed": false,
    "pycharm": {
     "name": "#%%\n"
    }
   }
  },
  {
   "cell_type": "code",
   "execution_count": 632,
   "outputs": [
    {
     "ename": "KeyError",
     "evalue": "'search_id'",
     "output_type": "error",
     "traceback": [
      "\u001B[1;31m---------------------------------------------------------------------------\u001B[0m",
      "\u001B[1;31mKeyError\u001B[0m                                  Traceback (most recent call last)",
      "File \u001B[1;32m~\\PycharmProjects\\VK_internship_Ranking\\venv\\lib\\site-packages\\pandas\\core\\indexes\\base.py:3805\u001B[0m, in \u001B[0;36mIndex.get_loc\u001B[1;34m(self, key)\u001B[0m\n\u001B[0;32m   3804\u001B[0m \u001B[38;5;28;01mtry\u001B[39;00m:\n\u001B[1;32m-> 3805\u001B[0m     \u001B[38;5;28;01mreturn\u001B[39;00m \u001B[38;5;28;43mself\u001B[39;49m\u001B[38;5;241;43m.\u001B[39;49m\u001B[43m_engine\u001B[49m\u001B[38;5;241;43m.\u001B[39;49m\u001B[43mget_loc\u001B[49m\u001B[43m(\u001B[49m\u001B[43mcasted_key\u001B[49m\u001B[43m)\u001B[49m\n\u001B[0;32m   3806\u001B[0m \u001B[38;5;28;01mexcept\u001B[39;00m \u001B[38;5;167;01mKeyError\u001B[39;00m \u001B[38;5;28;01mas\u001B[39;00m err:\n",
      "File \u001B[1;32mindex.pyx:167\u001B[0m, in \u001B[0;36mpandas._libs.index.IndexEngine.get_loc\u001B[1;34m()\u001B[0m\n",
      "File \u001B[1;32mindex.pyx:196\u001B[0m, in \u001B[0;36mpandas._libs.index.IndexEngine.get_loc\u001B[1;34m()\u001B[0m\n",
      "File \u001B[1;32mpandas\\\\_libs\\\\hashtable_class_helper.pxi:7081\u001B[0m, in \u001B[0;36mpandas._libs.hashtable.PyObjectHashTable.get_item\u001B[1;34m()\u001B[0m\n",
      "File \u001B[1;32mpandas\\\\_libs\\\\hashtable_class_helper.pxi:7089\u001B[0m, in \u001B[0;36mpandas._libs.hashtable.PyObjectHashTable.get_item\u001B[1;34m()\u001B[0m\n",
      "\u001B[1;31mKeyError\u001B[0m: 'search_id'",
      "\nThe above exception was the direct cause of the following exception:\n",
      "\u001B[1;31mKeyError\u001B[0m                                  Traceback (most recent call last)",
      "Cell \u001B[1;32mIn[632], line 2\u001B[0m\n\u001B[0;32m      1\u001B[0m \u001B[38;5;66;03m# Удалим search_id\u001B[39;00m\n\u001B[1;32m----> 2\u001B[0m queries_train \u001B[38;5;241m=\u001B[39m \u001B[43mX_train\u001B[49m\u001B[43m[\u001B[49m\u001B[38;5;124;43m'\u001B[39;49m\u001B[38;5;124;43msearch_id\u001B[39;49m\u001B[38;5;124;43m'\u001B[39;49m\u001B[43m]\u001B[49m\u001B[38;5;241m.\u001B[39mtolist()\n\u001B[0;32m      3\u001B[0m queries_val \u001B[38;5;241m=\u001B[39m X_val[\u001B[38;5;124m'\u001B[39m\u001B[38;5;124msearch_id\u001B[39m\u001B[38;5;124m'\u001B[39m]\u001B[38;5;241m.\u001B[39mtolist()\n\u001B[0;32m      4\u001B[0m queries_test \u001B[38;5;241m=\u001B[39m X_test[\u001B[38;5;124m'\u001B[39m\u001B[38;5;124msearch_id\u001B[39m\u001B[38;5;124m'\u001B[39m]\u001B[38;5;241m.\u001B[39mtolist()\n",
      "File \u001B[1;32m~\\PycharmProjects\\VK_internship_Ranking\\venv\\lib\\site-packages\\pandas\\core\\frame.py:4090\u001B[0m, in \u001B[0;36mDataFrame.__getitem__\u001B[1;34m(self, key)\u001B[0m\n\u001B[0;32m   4088\u001B[0m \u001B[38;5;28;01mif\u001B[39;00m \u001B[38;5;28mself\u001B[39m\u001B[38;5;241m.\u001B[39mcolumns\u001B[38;5;241m.\u001B[39mnlevels \u001B[38;5;241m>\u001B[39m \u001B[38;5;241m1\u001B[39m:\n\u001B[0;32m   4089\u001B[0m     \u001B[38;5;28;01mreturn\u001B[39;00m \u001B[38;5;28mself\u001B[39m\u001B[38;5;241m.\u001B[39m_getitem_multilevel(key)\n\u001B[1;32m-> 4090\u001B[0m indexer \u001B[38;5;241m=\u001B[39m \u001B[38;5;28;43mself\u001B[39;49m\u001B[38;5;241;43m.\u001B[39;49m\u001B[43mcolumns\u001B[49m\u001B[38;5;241;43m.\u001B[39;49m\u001B[43mget_loc\u001B[49m\u001B[43m(\u001B[49m\u001B[43mkey\u001B[49m\u001B[43m)\u001B[49m\n\u001B[0;32m   4091\u001B[0m \u001B[38;5;28;01mif\u001B[39;00m is_integer(indexer):\n\u001B[0;32m   4092\u001B[0m     indexer \u001B[38;5;241m=\u001B[39m [indexer]\n",
      "File \u001B[1;32m~\\PycharmProjects\\VK_internship_Ranking\\venv\\lib\\site-packages\\pandas\\core\\indexes\\base.py:3812\u001B[0m, in \u001B[0;36mIndex.get_loc\u001B[1;34m(self, key)\u001B[0m\n\u001B[0;32m   3807\u001B[0m     \u001B[38;5;28;01mif\u001B[39;00m \u001B[38;5;28misinstance\u001B[39m(casted_key, \u001B[38;5;28mslice\u001B[39m) \u001B[38;5;129;01mor\u001B[39;00m (\n\u001B[0;32m   3808\u001B[0m         \u001B[38;5;28misinstance\u001B[39m(casted_key, abc\u001B[38;5;241m.\u001B[39mIterable)\n\u001B[0;32m   3809\u001B[0m         \u001B[38;5;129;01mand\u001B[39;00m \u001B[38;5;28many\u001B[39m(\u001B[38;5;28misinstance\u001B[39m(x, \u001B[38;5;28mslice\u001B[39m) \u001B[38;5;28;01mfor\u001B[39;00m x \u001B[38;5;129;01min\u001B[39;00m casted_key)\n\u001B[0;32m   3810\u001B[0m     ):\n\u001B[0;32m   3811\u001B[0m         \u001B[38;5;28;01mraise\u001B[39;00m InvalidIndexError(key)\n\u001B[1;32m-> 3812\u001B[0m     \u001B[38;5;28;01mraise\u001B[39;00m \u001B[38;5;167;01mKeyError\u001B[39;00m(key) \u001B[38;5;28;01mfrom\u001B[39;00m \u001B[38;5;21;01merr\u001B[39;00m\n\u001B[0;32m   3813\u001B[0m \u001B[38;5;28;01mexcept\u001B[39;00m \u001B[38;5;167;01mTypeError\u001B[39;00m:\n\u001B[0;32m   3814\u001B[0m     \u001B[38;5;66;03m# If we have a listlike key, _check_indexing_error will raise\u001B[39;00m\n\u001B[0;32m   3815\u001B[0m     \u001B[38;5;66;03m#  InvalidIndexError. Otherwise we fall through and re-raise\u001B[39;00m\n\u001B[0;32m   3816\u001B[0m     \u001B[38;5;66;03m#  the TypeError.\u001B[39;00m\n\u001B[0;32m   3817\u001B[0m     \u001B[38;5;28mself\u001B[39m\u001B[38;5;241m.\u001B[39m_check_indexing_error(key)\n",
      "\u001B[1;31mKeyError\u001B[0m: 'search_id'"
     ]
    }
   ],
   "source": [
    "# Удалим search_id\n",
    "queries_train = X_train['search_id'].tolist()\n",
    "queries_val = X_val['search_id'].tolist()\n",
    "queries_test = X_test['search_id'].tolist()\n",
    "\n",
    "X_train.pop('search_id')\n",
    "X_val.pop('search_id')\n",
    "X_test.pop('search_id')\n",
    "pass"
   ],
   "metadata": {
    "collapsed": false,
    "pycharm": {
     "name": "#%%\n"
    }
   }
  },
  {
   "cell_type": "code",
   "execution_count": 549,
   "outputs": [],
   "source": [
    "# Создадим пулы - структуру данных, которая используется в CatBoost\n",
    "train_pool = Pool(data=X_train,\n",
    "                  label=y_train,\n",
    "                  group_id=queries_train,\n",
    "                  cat_features=probably_categorical_list)\n",
    "val_pool = Pool(data=X_val,\n",
    "                label=y_val,\n",
    "                group_id=queries_val,\n",
    "                cat_features=probably_categorical_list)\n",
    "test_pool = Pool(data=X_test,\n",
    "                 label=y_test,\n",
    "                 group_id=queries_test,\n",
    "                 cat_features=probably_categorical_list)"
   ],
   "metadata": {
    "collapsed": false,
    "pycharm": {
     "name": "#%%\n"
    }
   }
  },
  {
   "cell_type": "markdown",
   "source": [
    "Посмотрим, какая из функций потерь показывает лучший результат метрики NDCG."
   ],
   "metadata": {
    "collapsed": false,
    "pycharm": {
     "name": "#%% md\n"
    }
   }
  },
  {
   "cell_type": "code",
   "execution_count": 566,
   "outputs": [
    {
     "name": "stdout",
     "output_type": "stream",
     "text": [
      "StochasticFilter, NDCG=0.88, t=8.34\n",
      "PairLogit, NDCG=0.881, t=5.38\n",
      "PairLogitPairwise, NDCG=0.869, t=59.29\n",
      "LambdaMart, NDCG=0.888, t=1.99\n",
      "QueryRMSE, NDCG=0.875, t=1.94\n",
      "QuerySoftMax, NDCG=0.88, t=13.07\n",
      "YetiRank, NDCG=0.884, t=2.79\n",
      "YetiRankPairwise, NDCG=0.881, t=25.62\n"
     ]
    }
   ],
   "source": [
    "loss_functions = ['StochasticFilter', 'PairLogit', 'PairLogitPairwise', 'LambdaMart',\n",
    "                  'QueryRMSE', 'QuerySoftMax', 'YetiRank', 'YetiRankPairwise',]\n",
    "results = []\n",
    "\n",
    "# Обучим несколько ранжирующих моделей\n",
    "for loss_function in loss_functions:\n",
    "    t0 = time()\n",
    "    rnkr = CatBoostRanker(custom_metric=['NDCG'],\n",
    "                          random_state=RANDOM_STATE,\n",
    "                          iterations=500,\n",
    "                          loss_function=loss_function,\n",
    "                          verbose=False)\n",
    "\n",
    "    rnkr.fit(train_pool, eval_set=val_pool)\n",
    "    score = round(rnkr.score(val_pool), 3)\n",
    "    print(f'{loss_function}, NDCG={score}, t={round(time()-t0, 2)}')\n",
    "    results.append((loss_function, score))"
   ],
   "metadata": {
    "collapsed": false,
    "pycharm": {
     "name": "#%%\n"
    }
   }
  },
  {
   "cell_type": "markdown",
   "source": [
    "Наилучший результат показывает модель, использующая LambdaMart."
   ],
   "metadata": {
    "collapsed": false,
    "pycharm": {
     "name": "#%% md\n"
    }
   }
  },
  {
   "cell_type": "code",
   "execution_count": 573,
   "outputs": [
    {
     "name": "stdout",
     "output_type": "stream",
     "text": [
      "Groupwise loss function. OneHotMaxSize set to 10\n",
      "0:\ttest: 0.8525803\tbest: 0.8525803 (0)\ttotal: 3.75ms\tremaining: 1.87s\n",
      "50:\ttest: 0.8827896\tbest: 0.8836569 (31)\ttotal: 177ms\tremaining: 1.56s\n",
      "100:\ttest: 0.8850166\tbest: 0.8881081 (89)\ttotal: 354ms\tremaining: 1.4s\n",
      "150:\ttest: 0.8843020\tbest: 0.8881081 (89)\ttotal: 569ms\tremaining: 1.31s\n",
      "200:\ttest: 0.8849481\tbest: 0.8881081 (89)\ttotal: 765ms\tremaining: 1.14s\n",
      "250:\ttest: 0.8834978\tbest: 0.8881081 (89)\ttotal: 976ms\tremaining: 969ms\n",
      "300:\ttest: 0.8822042\tbest: 0.8881081 (89)\ttotal: 1.19s\tremaining: 790ms\n",
      "350:\ttest: 0.8851783\tbest: 0.8881081 (89)\ttotal: 1.38s\tremaining: 585ms\n",
      "400:\ttest: 0.8834402\tbest: 0.8881081 (89)\ttotal: 1.56s\tremaining: 384ms\n",
      "450:\ttest: 0.8836695\tbest: 0.8881081 (89)\ttotal: 1.73s\tremaining: 188ms\n",
      "499:\ttest: 0.8838802\tbest: 0.8881081 (89)\ttotal: 1.91s\tremaining: 0us\n",
      "\n",
      "bestTest = 0.8881081248\n",
      "bestIteration = 89\n",
      "\n",
      "Shrink model to first 90 iterations.\n"
     ]
    },
    {
     "data": {
      "text/plain": "<catboost.core.CatBoostRanker at 0x21a8c23e920>"
     },
     "execution_count": 573,
     "metadata": {},
     "output_type": "execute_result"
    }
   ],
   "source": [
    "# Обучим модель с лоссом LambdaMart\n",
    "rnkr = CatBoostRanker(custom_metric=['NDCG'],\n",
    "                      random_state=RANDOM_STATE,\n",
    "                      iterations=500,\n",
    "                      loss_function='LambdaMart',\n",
    "                      verbose=50)\n",
    "\n",
    "rnkr.fit(train_pool, eval_set=val_pool)"
   ],
   "metadata": {
    "collapsed": false,
    "pycharm": {
     "name": "#%%\n"
    }
   }
  },
  {
   "cell_type": "markdown",
   "source": [
    "# Предсказание на тестовой выборке"
   ],
   "metadata": {
    "collapsed": false,
    "pycharm": {
     "name": "#%% md\n"
    }
   }
  },
  {
   "cell_type": "markdown",
   "source": [
    "Расчитаем NDCG на тесте и сохраним предсказание в файл."
   ],
   "metadata": {
    "collapsed": false,
    "pycharm": {
     "name": "#%% md\n"
    }
   }
  },
  {
   "cell_type": "code",
   "execution_count": 578,
   "outputs": [
    {
     "data": {
      "text/plain": "0.91"
     },
     "execution_count": 578,
     "metadata": {},
     "output_type": "execute_result"
    }
   ],
   "source": [
    "# NDCG на тестовом датасете\n",
    "round(rnkr.score(test_pool), 2)"
   ],
   "metadata": {
    "collapsed": false,
    "pycharm": {
     "name": "#%%\n"
    }
   }
  },
  {
   "cell_type": "code",
   "execution_count": 629,
   "outputs": [
    {
     "data": {
      "text/plain": "      search_id   ranking  target\n0       10655.0 -0.470215     0.0\n1       10655.0 -0.456435     0.0\n2       10655.0 -0.428377     0.0\n3       10655.0 -0.376507     0.0\n4       10655.0 -0.448321     0.0\n...         ...       ...     ...\n1527   493078.0       NaN     1.0\n1528   493078.0       NaN     0.0\n853         NaN -0.082269     NaN\n857         NaN -0.325942     NaN\n864         NaN -0.500981     NaN\n\n[1529 rows x 3 columns]",
      "text/html": "<div>\n<style scoped>\n    .dataframe tbody tr th:only-of-type {\n        vertical-align: middle;\n    }\n\n    .dataframe tbody tr th {\n        vertical-align: top;\n    }\n\n    .dataframe thead th {\n        text-align: right;\n    }\n</style>\n<table border=\"1\" class=\"dataframe\">\n  <thead>\n    <tr style=\"text-align: right;\">\n      <th></th>\n      <th>search_id</th>\n      <th>ranking</th>\n      <th>target</th>\n    </tr>\n  </thead>\n  <tbody>\n    <tr>\n      <th>0</th>\n      <td>10655.0</td>\n      <td>-0.470215</td>\n      <td>0.0</td>\n    </tr>\n    <tr>\n      <th>1</th>\n      <td>10655.0</td>\n      <td>-0.456435</td>\n      <td>0.0</td>\n    </tr>\n    <tr>\n      <th>2</th>\n      <td>10655.0</td>\n      <td>-0.428377</td>\n      <td>0.0</td>\n    </tr>\n    <tr>\n      <th>3</th>\n      <td>10655.0</td>\n      <td>-0.376507</td>\n      <td>0.0</td>\n    </tr>\n    <tr>\n      <th>4</th>\n      <td>10655.0</td>\n      <td>-0.448321</td>\n      <td>0.0</td>\n    </tr>\n    <tr>\n      <th>...</th>\n      <td>...</td>\n      <td>...</td>\n      <td>...</td>\n    </tr>\n    <tr>\n      <th>1527</th>\n      <td>493078.0</td>\n      <td>NaN</td>\n      <td>1.0</td>\n    </tr>\n    <tr>\n      <th>1528</th>\n      <td>493078.0</td>\n      <td>NaN</td>\n      <td>0.0</td>\n    </tr>\n    <tr>\n      <th>853</th>\n      <td>NaN</td>\n      <td>-0.082269</td>\n      <td>NaN</td>\n    </tr>\n    <tr>\n      <th>857</th>\n      <td>NaN</td>\n      <td>-0.325942</td>\n      <td>NaN</td>\n    </tr>\n    <tr>\n      <th>864</th>\n      <td>NaN</td>\n      <td>-0.500981</td>\n      <td>NaN</td>\n    </tr>\n  </tbody>\n</table>\n<p>1529 rows × 3 columns</p>\n</div>"
     },
     "execution_count": 629,
     "metadata": {},
     "output_type": "execute_result"
    }
   ],
   "source": [
    "# Добавим ранжирование в тестовый датасет\n",
    "predictions = pd.concat([df_test['search_id'],\n",
    "                        pd.DataFrame(rnkr.predict(test_pool),\n",
    "                                     columns=['ranking']),\n",
    "                        df_test['target']], axis=1)\n",
    "predictions"
   ],
   "metadata": {
    "collapsed": false,
    "pycharm": {
     "name": "#%%\n"
    }
   }
  },
  {
   "cell_type": "code",
   "execution_count": null,
   "outputs": [],
   "source": [
    "# Сохраним в файл\n",
    "predictions.to_csv('predictions.txt', header=True, index=False)"
   ],
   "metadata": {
    "collapsed": false,
    "pycharm": {
     "name": "#%%\n"
    }
   }
  }
 ],
 "metadata": {
  "kernelspec": {
   "display_name": "Python 3",
   "language": "python",
   "name": "python3"
  },
  "language_info": {
   "codemirror_mode": {
    "name": "ipython",
    "version": 2
   },
   "file_extension": ".py",
   "mimetype": "text/x-python",
   "name": "python",
   "nbconvert_exporter": "python",
   "pygments_lexer": "ipython2",
   "version": "2.7.6"
  }
 },
 "nbformat": 4,
 "nbformat_minor": 0
}