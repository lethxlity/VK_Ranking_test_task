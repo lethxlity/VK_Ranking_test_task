{
 "cells": [
  {
   "cell_type": "code",
   "execution_count": 1,
   "outputs": [],
   "source": [
    "# %pip install pandas\n",
    "# %pip install catboost\n",
    "# %pip install scikit-learn"
   ],
   "metadata": {
    "collapsed": false,
    "pycharm": {
     "name": "#%%\n"
    }
   }
  },
  {
   "cell_type": "code",
   "execution_count": 2,
   "outputs": [],
   "source": [
    "import pandas as pd\n",
    "from catboost import CatBoostRanker, Pool\n",
    "from sklearn.model_selection import StratifiedGroupKFold\n",
    "from time import time\n",
    "\n",
    "RANDOM_STATE = 42"
   ],
   "metadata": {
    "collapsed": false,
    "pycharm": {
     "name": "#%%\n"
    }
   }
  },
  {
   "cell_type": "markdown",
   "source": [
    "# Анализ данных"
   ],
   "metadata": {
    "collapsed": false,
    "pycharm": {
     "name": "#%% md\n"
    }
   }
  },
  {
   "cell_type": "code",
   "execution_count": 3,
   "outputs": [],
   "source": [
    "# Загрузим данные\n",
    "df_train = pd.read_csv('data/train_df.csv')\n",
    "df_test = pd.read_csv('data/test_df.csv')"
   ],
   "metadata": {
    "collapsed": false,
    "pycharm": {
     "name": "#%%\n"
    }
   }
  },
  {
   "cell_type": "code",
   "execution_count": 4,
   "outputs": [],
   "source": [
    "# Удалим дубликаты\n",
    "df_train.drop_duplicates(inplace=True)"
   ],
   "metadata": {
    "collapsed": false,
    "pycharm": {
     "name": "#%%\n"
    }
   }
  },
  {
   "cell_type": "code",
   "execution_count": 5,
   "outputs": [
    {
     "data": {
      "text/plain": "       search_id  feature_0  feature_1  feature_2  feature_3  feature_4  \\\n10645      76443          9          0          0          0          9   \n11991     202264          9          1          2          1         20   \n8811      396025          9          0          0          0          9   \n889       105302          9          0          0          1         20   \n14001     406434          9          0          0          1         20   \n10176      25415          9          0          0          1         20   \n6201      148390          9          0          2          0          9   \n4033      413779          9          0          0          0          9   \n3464      346401          9          0          1          1         20   \n10749      82198          9          0          5          1         20   \n\n       feature_5  feature_6  feature_7  feature_8  ...  feature_70  \\\n10645          4         47          0          2  ...    0.315400   \n11991          4         31          1          1  ...    0.221742   \n8811           4         28          0          0  ...    0.300139   \n889            4         26          0          0  ...    0.235010   \n14001          3         49          0          6  ...    0.229567   \n10176          3         46          0          0  ...    0.200205   \n6201           4         34          0          0  ...    0.244329   \n4033           4         44          0          0  ...    0.176919   \n3464           4         25          7          3  ...    0.184892   \n10749          4         40          0          2  ...    0.299663   \n\n       feature_71  feature_72  feature_73  feature_74  feature_75  feature_76  \\\n10645    0.301275    0.095022           0           0           0     0.60546   \n11991    0.716336    0.158842           0           0           0     0.17985   \n8811     0.810031    0.243122           0           0           0     0.49742   \n889      0.361319    0.084914           0           0           0     0.10866   \n14001    0.477006    0.109505           0           0           0     0.17614   \n10176    0.199302    0.039901           0           0           0     0.76391   \n6201     0.347375    0.084874           0           0           0     0.07308   \n4033     0.513340    0.090820           0           0           0     0.17614   \n3464     0.618260    0.114311           0           0           0     0.10866   \n10749    0.460338    0.137946           0           0           0     0.47926   \n\n       feature_77  feature_78  target  \n10645         0.0         0.0       0  \n11991         0.0         0.0       0  \n8811          0.0         0.0       0  \n889           0.0         0.0       0  \n14001         0.0         0.0       0  \n10176         0.0         0.0       0  \n6201          0.0         0.0       0  \n4033          0.0         0.0       0  \n3464          0.0         0.0       0  \n10749         0.0         0.0       0  \n\n[10 rows x 81 columns]",
      "text/html": "<div>\n<style scoped>\n    .dataframe tbody tr th:only-of-type {\n        vertical-align: middle;\n    }\n\n    .dataframe tbody tr th {\n        vertical-align: top;\n    }\n\n    .dataframe thead th {\n        text-align: right;\n    }\n</style>\n<table border=\"1\" class=\"dataframe\">\n  <thead>\n    <tr style=\"text-align: right;\">\n      <th></th>\n      <th>search_id</th>\n      <th>feature_0</th>\n      <th>feature_1</th>\n      <th>feature_2</th>\n      <th>feature_3</th>\n      <th>feature_4</th>\n      <th>feature_5</th>\n      <th>feature_6</th>\n      <th>feature_7</th>\n      <th>feature_8</th>\n      <th>...</th>\n      <th>feature_70</th>\n      <th>feature_71</th>\n      <th>feature_72</th>\n      <th>feature_73</th>\n      <th>feature_74</th>\n      <th>feature_75</th>\n      <th>feature_76</th>\n      <th>feature_77</th>\n      <th>feature_78</th>\n      <th>target</th>\n    </tr>\n  </thead>\n  <tbody>\n    <tr>\n      <th>10645</th>\n      <td>76443</td>\n      <td>9</td>\n      <td>0</td>\n      <td>0</td>\n      <td>0</td>\n      <td>9</td>\n      <td>4</td>\n      <td>47</td>\n      <td>0</td>\n      <td>2</td>\n      <td>...</td>\n      <td>0.315400</td>\n      <td>0.301275</td>\n      <td>0.095022</td>\n      <td>0</td>\n      <td>0</td>\n      <td>0</td>\n      <td>0.60546</td>\n      <td>0.0</td>\n      <td>0.0</td>\n      <td>0</td>\n    </tr>\n    <tr>\n      <th>11991</th>\n      <td>202264</td>\n      <td>9</td>\n      <td>1</td>\n      <td>2</td>\n      <td>1</td>\n      <td>20</td>\n      <td>4</td>\n      <td>31</td>\n      <td>1</td>\n      <td>1</td>\n      <td>...</td>\n      <td>0.221742</td>\n      <td>0.716336</td>\n      <td>0.158842</td>\n      <td>0</td>\n      <td>0</td>\n      <td>0</td>\n      <td>0.17985</td>\n      <td>0.0</td>\n      <td>0.0</td>\n      <td>0</td>\n    </tr>\n    <tr>\n      <th>8811</th>\n      <td>396025</td>\n      <td>9</td>\n      <td>0</td>\n      <td>0</td>\n      <td>0</td>\n      <td>9</td>\n      <td>4</td>\n      <td>28</td>\n      <td>0</td>\n      <td>0</td>\n      <td>...</td>\n      <td>0.300139</td>\n      <td>0.810031</td>\n      <td>0.243122</td>\n      <td>0</td>\n      <td>0</td>\n      <td>0</td>\n      <td>0.49742</td>\n      <td>0.0</td>\n      <td>0.0</td>\n      <td>0</td>\n    </tr>\n    <tr>\n      <th>889</th>\n      <td>105302</td>\n      <td>9</td>\n      <td>0</td>\n      <td>0</td>\n      <td>1</td>\n      <td>20</td>\n      <td>4</td>\n      <td>26</td>\n      <td>0</td>\n      <td>0</td>\n      <td>...</td>\n      <td>0.235010</td>\n      <td>0.361319</td>\n      <td>0.084914</td>\n      <td>0</td>\n      <td>0</td>\n      <td>0</td>\n      <td>0.10866</td>\n      <td>0.0</td>\n      <td>0.0</td>\n      <td>0</td>\n    </tr>\n    <tr>\n      <th>14001</th>\n      <td>406434</td>\n      <td>9</td>\n      <td>0</td>\n      <td>0</td>\n      <td>1</td>\n      <td>20</td>\n      <td>3</td>\n      <td>49</td>\n      <td>0</td>\n      <td>6</td>\n      <td>...</td>\n      <td>0.229567</td>\n      <td>0.477006</td>\n      <td>0.109505</td>\n      <td>0</td>\n      <td>0</td>\n      <td>0</td>\n      <td>0.17614</td>\n      <td>0.0</td>\n      <td>0.0</td>\n      <td>0</td>\n    </tr>\n    <tr>\n      <th>10176</th>\n      <td>25415</td>\n      <td>9</td>\n      <td>0</td>\n      <td>0</td>\n      <td>1</td>\n      <td>20</td>\n      <td>3</td>\n      <td>46</td>\n      <td>0</td>\n      <td>0</td>\n      <td>...</td>\n      <td>0.200205</td>\n      <td>0.199302</td>\n      <td>0.039901</td>\n      <td>0</td>\n      <td>0</td>\n      <td>0</td>\n      <td>0.76391</td>\n      <td>0.0</td>\n      <td>0.0</td>\n      <td>0</td>\n    </tr>\n    <tr>\n      <th>6201</th>\n      <td>148390</td>\n      <td>9</td>\n      <td>0</td>\n      <td>2</td>\n      <td>0</td>\n      <td>9</td>\n      <td>4</td>\n      <td>34</td>\n      <td>0</td>\n      <td>0</td>\n      <td>...</td>\n      <td>0.244329</td>\n      <td>0.347375</td>\n      <td>0.084874</td>\n      <td>0</td>\n      <td>0</td>\n      <td>0</td>\n      <td>0.07308</td>\n      <td>0.0</td>\n      <td>0.0</td>\n      <td>0</td>\n    </tr>\n    <tr>\n      <th>4033</th>\n      <td>413779</td>\n      <td>9</td>\n      <td>0</td>\n      <td>0</td>\n      <td>0</td>\n      <td>9</td>\n      <td>4</td>\n      <td>44</td>\n      <td>0</td>\n      <td>0</td>\n      <td>...</td>\n      <td>0.176919</td>\n      <td>0.513340</td>\n      <td>0.090820</td>\n      <td>0</td>\n      <td>0</td>\n      <td>0</td>\n      <td>0.17614</td>\n      <td>0.0</td>\n      <td>0.0</td>\n      <td>0</td>\n    </tr>\n    <tr>\n      <th>3464</th>\n      <td>346401</td>\n      <td>9</td>\n      <td>0</td>\n      <td>1</td>\n      <td>1</td>\n      <td>20</td>\n      <td>4</td>\n      <td>25</td>\n      <td>7</td>\n      <td>3</td>\n      <td>...</td>\n      <td>0.184892</td>\n      <td>0.618260</td>\n      <td>0.114311</td>\n      <td>0</td>\n      <td>0</td>\n      <td>0</td>\n      <td>0.10866</td>\n      <td>0.0</td>\n      <td>0.0</td>\n      <td>0</td>\n    </tr>\n    <tr>\n      <th>10749</th>\n      <td>82198</td>\n      <td>9</td>\n      <td>0</td>\n      <td>5</td>\n      <td>1</td>\n      <td>20</td>\n      <td>4</td>\n      <td>40</td>\n      <td>0</td>\n      <td>2</td>\n      <td>...</td>\n      <td>0.299663</td>\n      <td>0.460338</td>\n      <td>0.137946</td>\n      <td>0</td>\n      <td>0</td>\n      <td>0</td>\n      <td>0.47926</td>\n      <td>0.0</td>\n      <td>0.0</td>\n      <td>0</td>\n    </tr>\n  </tbody>\n</table>\n<p>10 rows × 81 columns</p>\n</div>"
     },
     "execution_count": 5,
     "metadata": {},
     "output_type": "execute_result"
    }
   ],
   "source": [
    "#Посмотрим на датасет\n",
    "df_train.sample(10)"
   ],
   "metadata": {
    "collapsed": false,
    "pycharm": {
     "name": "#%%\n"
    }
   }
  },
  {
   "cell_type": "markdown",
   "source": [
    "Оценки ранжирования представлены бинарными значениями 0 и 1."
   ],
   "metadata": {
    "collapsed": false,
    "pycharm": {
     "name": "#%% md\n"
    }
   }
  },
  {
   "cell_type": "code",
   "execution_count": 6,
   "outputs": [
    {
     "data": {
      "text/plain": "           search_id  feature_0    feature_1     feature_2     feature_3  \\\ncount   15069.000000    15069.0  15069.00000  15069.000000  15069.000000   \nmean   254801.947641        9.0      0.19351      0.463999      0.630168   \nstd    142377.307514        0.0      0.62605      1.182782      0.482775   \nmin       116.000000        9.0      0.00000      0.000000      0.000000   \n25%    134823.000000        9.0      0.00000      0.000000      0.000000   \n50%    255859.000000        9.0      0.00000      0.000000      1.000000   \n75%    376175.000000        9.0      0.00000      0.000000      1.000000   \nmax    496975.000000        9.0      3.00000      6.000000      1.000000   \n\n          feature_4     feature_5     feature_6     feature_7     feature_8  \\\ncount  15069.000000  15069.000000  15069.000000  15069.000000  15069.000000   \nmean      15.931847      3.876302     33.807685      1.210764      1.792023   \nstd        5.310526      0.469923     11.312467      2.234444      1.883771   \nmin        9.000000      0.000000      0.000000      0.000000      0.000000   \n25%        9.000000      4.000000     26.000000      0.000000      0.000000   \n50%       20.000000      4.000000     34.000000      0.000000      2.000000   \n75%       20.000000      4.000000     44.000000      1.000000      3.000000   \nmax       20.000000      6.000000     49.000000      7.000000      7.000000   \n\n       ...    feature_70    feature_71    feature_72  feature_73  feature_74  \\\ncount  ...  15069.000000  15069.000000  15069.000000     15069.0     15069.0   \nmean   ...      0.199704      0.426882      0.096538         0.0         0.0   \nstd    ...      0.088580      0.247193      0.063289         0.0         0.0   \nmin    ...      0.000000      0.000000      0.000000         0.0         0.0   \n25%    ...      0.168716      0.255757      0.052735         0.0         0.0   \n50%    ...      0.212826      0.431185      0.091782         0.0         0.0   \n75%    ...      0.253881      0.603934      0.136083         0.0         0.0   \nmax    ...      0.485510      0.999072      0.411563         0.0         0.0   \n\n       feature_75    feature_76    feature_77    feature_78        target  \ncount     15069.0  15069.000000  15069.000000  15069.000000  15069.000000  \nmean          0.0      0.297702      0.030567      0.031232      0.021368  \nstd           0.0      0.311973      0.113026      0.115641      0.144614  \nmin           0.0      0.000000      0.000000      0.000000      0.000000  \n25%           0.0      0.036740      0.000000      0.000000      0.000000  \n50%           0.0      0.176140      0.000000      0.000000      0.000000  \n75%           0.0      0.529630      0.000000      0.000000      0.000000  \nmax           0.0      1.000020      0.846272      0.908132      1.000000  \n\n[8 rows x 81 columns]",
      "text/html": "<div>\n<style scoped>\n    .dataframe tbody tr th:only-of-type {\n        vertical-align: middle;\n    }\n\n    .dataframe tbody tr th {\n        vertical-align: top;\n    }\n\n    .dataframe thead th {\n        text-align: right;\n    }\n</style>\n<table border=\"1\" class=\"dataframe\">\n  <thead>\n    <tr style=\"text-align: right;\">\n      <th></th>\n      <th>search_id</th>\n      <th>feature_0</th>\n      <th>feature_1</th>\n      <th>feature_2</th>\n      <th>feature_3</th>\n      <th>feature_4</th>\n      <th>feature_5</th>\n      <th>feature_6</th>\n      <th>feature_7</th>\n      <th>feature_8</th>\n      <th>...</th>\n      <th>feature_70</th>\n      <th>feature_71</th>\n      <th>feature_72</th>\n      <th>feature_73</th>\n      <th>feature_74</th>\n      <th>feature_75</th>\n      <th>feature_76</th>\n      <th>feature_77</th>\n      <th>feature_78</th>\n      <th>target</th>\n    </tr>\n  </thead>\n  <tbody>\n    <tr>\n      <th>count</th>\n      <td>15069.000000</td>\n      <td>15069.0</td>\n      <td>15069.00000</td>\n      <td>15069.000000</td>\n      <td>15069.000000</td>\n      <td>15069.000000</td>\n      <td>15069.000000</td>\n      <td>15069.000000</td>\n      <td>15069.000000</td>\n      <td>15069.000000</td>\n      <td>...</td>\n      <td>15069.000000</td>\n      <td>15069.000000</td>\n      <td>15069.000000</td>\n      <td>15069.0</td>\n      <td>15069.0</td>\n      <td>15069.0</td>\n      <td>15069.000000</td>\n      <td>15069.000000</td>\n      <td>15069.000000</td>\n      <td>15069.000000</td>\n    </tr>\n    <tr>\n      <th>mean</th>\n      <td>254801.947641</td>\n      <td>9.0</td>\n      <td>0.19351</td>\n      <td>0.463999</td>\n      <td>0.630168</td>\n      <td>15.931847</td>\n      <td>3.876302</td>\n      <td>33.807685</td>\n      <td>1.210764</td>\n      <td>1.792023</td>\n      <td>...</td>\n      <td>0.199704</td>\n      <td>0.426882</td>\n      <td>0.096538</td>\n      <td>0.0</td>\n      <td>0.0</td>\n      <td>0.0</td>\n      <td>0.297702</td>\n      <td>0.030567</td>\n      <td>0.031232</td>\n      <td>0.021368</td>\n    </tr>\n    <tr>\n      <th>std</th>\n      <td>142377.307514</td>\n      <td>0.0</td>\n      <td>0.62605</td>\n      <td>1.182782</td>\n      <td>0.482775</td>\n      <td>5.310526</td>\n      <td>0.469923</td>\n      <td>11.312467</td>\n      <td>2.234444</td>\n      <td>1.883771</td>\n      <td>...</td>\n      <td>0.088580</td>\n      <td>0.247193</td>\n      <td>0.063289</td>\n      <td>0.0</td>\n      <td>0.0</td>\n      <td>0.0</td>\n      <td>0.311973</td>\n      <td>0.113026</td>\n      <td>0.115641</td>\n      <td>0.144614</td>\n    </tr>\n    <tr>\n      <th>min</th>\n      <td>116.000000</td>\n      <td>9.0</td>\n      <td>0.00000</td>\n      <td>0.000000</td>\n      <td>0.000000</td>\n      <td>9.000000</td>\n      <td>0.000000</td>\n      <td>0.000000</td>\n      <td>0.000000</td>\n      <td>0.000000</td>\n      <td>...</td>\n      <td>0.000000</td>\n      <td>0.000000</td>\n      <td>0.000000</td>\n      <td>0.0</td>\n      <td>0.0</td>\n      <td>0.0</td>\n      <td>0.000000</td>\n      <td>0.000000</td>\n      <td>0.000000</td>\n      <td>0.000000</td>\n    </tr>\n    <tr>\n      <th>25%</th>\n      <td>134823.000000</td>\n      <td>9.0</td>\n      <td>0.00000</td>\n      <td>0.000000</td>\n      <td>0.000000</td>\n      <td>9.000000</td>\n      <td>4.000000</td>\n      <td>26.000000</td>\n      <td>0.000000</td>\n      <td>0.000000</td>\n      <td>...</td>\n      <td>0.168716</td>\n      <td>0.255757</td>\n      <td>0.052735</td>\n      <td>0.0</td>\n      <td>0.0</td>\n      <td>0.0</td>\n      <td>0.036740</td>\n      <td>0.000000</td>\n      <td>0.000000</td>\n      <td>0.000000</td>\n    </tr>\n    <tr>\n      <th>50%</th>\n      <td>255859.000000</td>\n      <td>9.0</td>\n      <td>0.00000</td>\n      <td>0.000000</td>\n      <td>1.000000</td>\n      <td>20.000000</td>\n      <td>4.000000</td>\n      <td>34.000000</td>\n      <td>0.000000</td>\n      <td>2.000000</td>\n      <td>...</td>\n      <td>0.212826</td>\n      <td>0.431185</td>\n      <td>0.091782</td>\n      <td>0.0</td>\n      <td>0.0</td>\n      <td>0.0</td>\n      <td>0.176140</td>\n      <td>0.000000</td>\n      <td>0.000000</td>\n      <td>0.000000</td>\n    </tr>\n    <tr>\n      <th>75%</th>\n      <td>376175.000000</td>\n      <td>9.0</td>\n      <td>0.00000</td>\n      <td>0.000000</td>\n      <td>1.000000</td>\n      <td>20.000000</td>\n      <td>4.000000</td>\n      <td>44.000000</td>\n      <td>1.000000</td>\n      <td>3.000000</td>\n      <td>...</td>\n      <td>0.253881</td>\n      <td>0.603934</td>\n      <td>0.136083</td>\n      <td>0.0</td>\n      <td>0.0</td>\n      <td>0.0</td>\n      <td>0.529630</td>\n      <td>0.000000</td>\n      <td>0.000000</td>\n      <td>0.000000</td>\n    </tr>\n    <tr>\n      <th>max</th>\n      <td>496975.000000</td>\n      <td>9.0</td>\n      <td>3.00000</td>\n      <td>6.000000</td>\n      <td>1.000000</td>\n      <td>20.000000</td>\n      <td>6.000000</td>\n      <td>49.000000</td>\n      <td>7.000000</td>\n      <td>7.000000</td>\n      <td>...</td>\n      <td>0.485510</td>\n      <td>0.999072</td>\n      <td>0.411563</td>\n      <td>0.0</td>\n      <td>0.0</td>\n      <td>0.0</td>\n      <td>1.000020</td>\n      <td>0.846272</td>\n      <td>0.908132</td>\n      <td>1.000000</td>\n    </tr>\n  </tbody>\n</table>\n<p>8 rows × 81 columns</p>\n</div>"
     },
     "execution_count": 6,
     "metadata": {},
     "output_type": "execute_result"
    }
   ],
   "source": [
    "df_train.describe()"
   ],
   "metadata": {
    "collapsed": false,
    "pycharm": {
     "name": "#%%\n"
    }
   }
  },
  {
   "cell_type": "code",
   "execution_count": 7,
   "outputs": [
    {
     "name": "stdout",
     "output_type": "stream",
     "text": [
      "<class 'pandas.core.frame.DataFrame'>\n",
      "Index: 15069 entries, 0 to 15080\n",
      "Data columns (total 81 columns):\n",
      " #   Column      Non-Null Count  Dtype  \n",
      "---  ------      --------------  -----  \n",
      " 0   search_id   15069 non-null  int64  \n",
      " 1   feature_0   15069 non-null  int64  \n",
      " 2   feature_1   15069 non-null  int64  \n",
      " 3   feature_2   15069 non-null  int64  \n",
      " 4   feature_3   15069 non-null  int64  \n",
      " 5   feature_4   15069 non-null  int64  \n",
      " 6   feature_5   15069 non-null  int64  \n",
      " 7   feature_6   15069 non-null  int64  \n",
      " 8   feature_7   15069 non-null  int64  \n",
      " 9   feature_8   15069 non-null  int64  \n",
      " 10  feature_9   15069 non-null  int64  \n",
      " 11  feature_10  15069 non-null  int64  \n",
      " 12  feature_11  15069 non-null  int64  \n",
      " 13  feature_12  15069 non-null  int64  \n",
      " 14  feature_13  15069 non-null  int64  \n",
      " 15  feature_14  15069 non-null  int64  \n",
      " 16  feature_15  15069 non-null  int64  \n",
      " 17  feature_16  15069 non-null  float64\n",
      " 18  feature_17  15069 non-null  float64\n",
      " 19  feature_18  15069 non-null  float64\n",
      " 20  feature_19  15069 non-null  float64\n",
      " 21  feature_20  15069 non-null  float64\n",
      " 22  feature_21  15069 non-null  float64\n",
      " 23  feature_22  15069 non-null  float64\n",
      " 24  feature_23  15069 non-null  float64\n",
      " 25  feature_24  15069 non-null  float64\n",
      " 26  feature_25  15069 non-null  float64\n",
      " 27  feature_26  15069 non-null  float64\n",
      " 28  feature_27  15069 non-null  float64\n",
      " 29  feature_28  15069 non-null  float64\n",
      " 30  feature_29  15069 non-null  float64\n",
      " 31  feature_30  15069 non-null  float64\n",
      " 32  feature_31  15069 non-null  float64\n",
      " 33  feature_32  15069 non-null  float64\n",
      " 34  feature_33  15069 non-null  float64\n",
      " 35  feature_34  15069 non-null  float64\n",
      " 36  feature_35  15069 non-null  float64\n",
      " 37  feature_36  15069 non-null  float64\n",
      " 38  feature_37  15069 non-null  float64\n",
      " 39  feature_38  15069 non-null  float64\n",
      " 40  feature_39  15069 non-null  float64\n",
      " 41  feature_40  15069 non-null  float64\n",
      " 42  feature_41  15069 non-null  float64\n",
      " 43  feature_42  15069 non-null  float64\n",
      " 44  feature_43  15069 non-null  float64\n",
      " 45  feature_44  15069 non-null  float64\n",
      " 46  feature_45  15069 non-null  float64\n",
      " 47  feature_46  15069 non-null  float64\n",
      " 48  feature_47  15069 non-null  float64\n",
      " 49  feature_48  15069 non-null  float64\n",
      " 50  feature_49  15069 non-null  float64\n",
      " 51  feature_50  15069 non-null  float64\n",
      " 52  feature_51  15069 non-null  float64\n",
      " 53  feature_52  15069 non-null  float64\n",
      " 54  feature_53  15069 non-null  float64\n",
      " 55  feature_54  15069 non-null  float64\n",
      " 56  feature_55  15069 non-null  float64\n",
      " 57  feature_56  15069 non-null  float64\n",
      " 58  feature_57  15069 non-null  float64\n",
      " 59  feature_58  15069 non-null  float64\n",
      " 60  feature_59  15069 non-null  float64\n",
      " 61  feature_60  15069 non-null  float64\n",
      " 62  feature_61  15069 non-null  float64\n",
      " 63  feature_62  15069 non-null  float64\n",
      " 64  feature_63  15069 non-null  float64\n",
      " 65  feature_64  15069 non-null  float64\n",
      " 66  feature_65  15069 non-null  float64\n",
      " 67  feature_66  15069 non-null  float64\n",
      " 68  feature_67  15069 non-null  float64\n",
      " 69  feature_68  15069 non-null  float64\n",
      " 70  feature_69  15069 non-null  float64\n",
      " 71  feature_70  15069 non-null  float64\n",
      " 72  feature_71  15069 non-null  float64\n",
      " 73  feature_72  15069 non-null  float64\n",
      " 74  feature_73  15069 non-null  int64  \n",
      " 75  feature_74  15069 non-null  int64  \n",
      " 76  feature_75  15069 non-null  int64  \n",
      " 77  feature_76  15069 non-null  float64\n",
      " 78  feature_77  15069 non-null  float64\n",
      " 79  feature_78  15069 non-null  float64\n",
      " 80  target      15069 non-null  int64  \n",
      "dtypes: float64(60), int64(21)\n",
      "memory usage: 9.4 MB\n"
     ]
    }
   ],
   "source": [
    "df_train.info()"
   ],
   "metadata": {
    "collapsed": false,
    "pycharm": {
     "name": "#%%\n"
    }
   }
  },
  {
   "cell_type": "markdown",
   "source": [
    "В train датасете присутствуют строки с константным значением."
   ],
   "metadata": {
    "collapsed": false,
    "pycharm": {
     "name": "#%% md\n"
    }
   }
  },
  {
   "cell_type": "code",
   "execution_count": 8,
   "outputs": [
    {
     "data": {
      "text/plain": "feature_0     1\nfeature_73    1\nfeature_74    1\nfeature_75    1\ndtype: int64"
     },
     "execution_count": 8,
     "metadata": {},
     "output_type": "execute_result"
    }
   ],
   "source": [
    "df_train.nunique()[df_train.nunique() == 1]"
   ],
   "metadata": {
    "collapsed": false,
    "pycharm": {
     "name": "#%%\n"
    }
   }
  },
  {
   "cell_type": "code",
   "execution_count": 9,
   "outputs": [],
   "source": [
    "# Удалим их\n",
    "df_train.drop(columns=['feature_0', 'feature_73', 'feature_74', 'feature_75'],\n",
    "              inplace=True)"
   ],
   "metadata": {
    "collapsed": false,
    "pycharm": {
     "name": "#%%\n"
    }
   }
  },
  {
   "cell_type": "code",
   "execution_count": 10,
   "outputs": [
    {
     "data": {
      "text/plain": "[0, 1, 2, 4, 3, 5]"
     },
     "execution_count": 10,
     "metadata": {},
     "output_type": "execute_result"
    }
   ],
   "source": [
    "# Посмотрим, сколько на каждый запрос может быть рекомендовано документов\n",
    "df_train.groupby('search_id').sum()['target'].unique().tolist()"
   ],
   "metadata": {
    "collapsed": false,
    "pycharm": {
     "name": "#%%\n"
    }
   }
  },
  {
   "cell_type": "markdown",
   "source": [
    "В обучающей выборке наблюдается от 0 до 5 рекомендованных значений."
   ],
   "metadata": {
    "collapsed": false,
    "pycharm": {
     "name": "#%% md\n"
    }
   }
  },
  {
   "cell_type": "code",
   "execution_count": 11,
   "outputs": [
    {
     "data": {
      "text/plain": "97.86316278452452"
     },
     "execution_count": 11,
     "metadata": {},
     "output_type": "execute_result"
    }
   ],
   "source": [
    "# Посмотрим на баланс классов\n",
    "100 * len(df_train[df_train['target'] == 0]['target'])/len(df_train)"
   ],
   "metadata": {
    "collapsed": false,
    "pycharm": {
     "name": "#%%\n"
    }
   }
  },
  {
   "cell_type": "markdown",
   "source": [
    "Наблюдается сильный дисбаланс рекоммендаций - почти 98% значений не рекомендовано к выдаче."
   ],
   "metadata": {
    "collapsed": false,
    "pycharm": {
     "name": "#%% md\n"
    }
   }
  },
  {
   "cell_type": "code",
   "execution_count": 12,
   "outputs": [
    {
     "data": {
      "text/plain": "       feature_1  feature_2  feature_3  feature_4  feature_5  feature_7  \\\n10089          0          0          1         20          4          0   \n5658           3          0          1         20          4          7   \n1960           0          0          0          9          4          7   \n4502           0          1          1         20          4          0   \n9920           0          0          1         20          4          7   \n7006           0          0          1         20          4          0   \n14642          0          0          1         20          4          6   \n9266           0          0          1         20          4          0   \n2221           0          0          1         20          4          0   \n7289           2          2          1         20          4          4   \n\n       feature_8  feature_9  feature_10  feature_11  feature_12  feature_13  \\\n10089          0          1           0           0           0           1   \n5658           6          1           0           0           0           0   \n1960           1          0           1           1           0           0   \n4502           3          0           0           0           0           0   \n9920           5          1           0           0           0           0   \n7006           4          1           0           0           0           0   \n14642          3          1           1           1           0           0   \n9266           0          1           0           0           0           1   \n2221           4          1           0           0           0           0   \n7289           2          1           1           1           0           1   \n\n       feature_14  feature_15  \n10089           1           0  \n5658            0           0  \n1960            1           0  \n4502            1           0  \n9920            1           0  \n7006            1           0  \n14642           0           0  \n9266            1           0  \n2221            0           0  \n7289            0           0  ",
      "text/html": "<div>\n<style scoped>\n    .dataframe tbody tr th:only-of-type {\n        vertical-align: middle;\n    }\n\n    .dataframe tbody tr th {\n        vertical-align: top;\n    }\n\n    .dataframe thead th {\n        text-align: right;\n    }\n</style>\n<table border=\"1\" class=\"dataframe\">\n  <thead>\n    <tr style=\"text-align: right;\">\n      <th></th>\n      <th>feature_1</th>\n      <th>feature_2</th>\n      <th>feature_3</th>\n      <th>feature_4</th>\n      <th>feature_5</th>\n      <th>feature_7</th>\n      <th>feature_8</th>\n      <th>feature_9</th>\n      <th>feature_10</th>\n      <th>feature_11</th>\n      <th>feature_12</th>\n      <th>feature_13</th>\n      <th>feature_14</th>\n      <th>feature_15</th>\n    </tr>\n  </thead>\n  <tbody>\n    <tr>\n      <th>10089</th>\n      <td>0</td>\n      <td>0</td>\n      <td>1</td>\n      <td>20</td>\n      <td>4</td>\n      <td>0</td>\n      <td>0</td>\n      <td>1</td>\n      <td>0</td>\n      <td>0</td>\n      <td>0</td>\n      <td>1</td>\n      <td>1</td>\n      <td>0</td>\n    </tr>\n    <tr>\n      <th>5658</th>\n      <td>3</td>\n      <td>0</td>\n      <td>1</td>\n      <td>20</td>\n      <td>4</td>\n      <td>7</td>\n      <td>6</td>\n      <td>1</td>\n      <td>0</td>\n      <td>0</td>\n      <td>0</td>\n      <td>0</td>\n      <td>0</td>\n      <td>0</td>\n    </tr>\n    <tr>\n      <th>1960</th>\n      <td>0</td>\n      <td>0</td>\n      <td>0</td>\n      <td>9</td>\n      <td>4</td>\n      <td>7</td>\n      <td>1</td>\n      <td>0</td>\n      <td>1</td>\n      <td>1</td>\n      <td>0</td>\n      <td>0</td>\n      <td>1</td>\n      <td>0</td>\n    </tr>\n    <tr>\n      <th>4502</th>\n      <td>0</td>\n      <td>1</td>\n      <td>1</td>\n      <td>20</td>\n      <td>4</td>\n      <td>0</td>\n      <td>3</td>\n      <td>0</td>\n      <td>0</td>\n      <td>0</td>\n      <td>0</td>\n      <td>0</td>\n      <td>1</td>\n      <td>0</td>\n    </tr>\n    <tr>\n      <th>9920</th>\n      <td>0</td>\n      <td>0</td>\n      <td>1</td>\n      <td>20</td>\n      <td>4</td>\n      <td>7</td>\n      <td>5</td>\n      <td>1</td>\n      <td>0</td>\n      <td>0</td>\n      <td>0</td>\n      <td>0</td>\n      <td>1</td>\n      <td>0</td>\n    </tr>\n    <tr>\n      <th>7006</th>\n      <td>0</td>\n      <td>0</td>\n      <td>1</td>\n      <td>20</td>\n      <td>4</td>\n      <td>0</td>\n      <td>4</td>\n      <td>1</td>\n      <td>0</td>\n      <td>0</td>\n      <td>0</td>\n      <td>0</td>\n      <td>1</td>\n      <td>0</td>\n    </tr>\n    <tr>\n      <th>14642</th>\n      <td>0</td>\n      <td>0</td>\n      <td>1</td>\n      <td>20</td>\n      <td>4</td>\n      <td>6</td>\n      <td>3</td>\n      <td>1</td>\n      <td>1</td>\n      <td>1</td>\n      <td>0</td>\n      <td>0</td>\n      <td>0</td>\n      <td>0</td>\n    </tr>\n    <tr>\n      <th>9266</th>\n      <td>0</td>\n      <td>0</td>\n      <td>1</td>\n      <td>20</td>\n      <td>4</td>\n      <td>0</td>\n      <td>0</td>\n      <td>1</td>\n      <td>0</td>\n      <td>0</td>\n      <td>0</td>\n      <td>1</td>\n      <td>1</td>\n      <td>0</td>\n    </tr>\n    <tr>\n      <th>2221</th>\n      <td>0</td>\n      <td>0</td>\n      <td>1</td>\n      <td>20</td>\n      <td>4</td>\n      <td>0</td>\n      <td>4</td>\n      <td>1</td>\n      <td>0</td>\n      <td>0</td>\n      <td>0</td>\n      <td>0</td>\n      <td>0</td>\n      <td>0</td>\n    </tr>\n    <tr>\n      <th>7289</th>\n      <td>2</td>\n      <td>2</td>\n      <td>1</td>\n      <td>20</td>\n      <td>4</td>\n      <td>4</td>\n      <td>2</td>\n      <td>1</td>\n      <td>1</td>\n      <td>1</td>\n      <td>0</td>\n      <td>1</td>\n      <td>0</td>\n      <td>0</td>\n    </tr>\n  </tbody>\n</table>\n</div>"
     },
     "execution_count": 12,
     "metadata": {},
     "output_type": "execute_result"
    }
   ],
   "source": [
    "# Посмотрим на признаки, которые имеют до 10 уникальных значений\n",
    "probably_categorical_list = df_train.nunique()[df_train.nunique() < 10].index.tolist()[:-1:]\n",
    "df_train[probably_categorical_list].sample(10)"
   ],
   "metadata": {
    "collapsed": false,
    "pycharm": {
     "name": "#%%\n"
    }
   }
  },
  {
   "cell_type": "markdown",
   "source": [
    "Признаки, которые имеют до 10 уникальных значений и тип int64, скорее всего являются категориальными\n",
    "Датасет выглядит чисто, очевидных ошибок не наблюдается."
   ],
   "metadata": {
    "collapsed": false,
    "pycharm": {
     "name": "#%% md\n"
    }
   }
  },
  {
   "cell_type": "code",
   "execution_count": 13,
   "outputs": [],
   "source": [
    "# Аналогично обработаем test\n",
    "df_test.drop(columns=['feature_0', 'feature_73', 'feature_74', 'feature_75'],\n",
    "             inplace=True)"
   ],
   "metadata": {
    "collapsed": false,
    "pycharm": {
     "name": "#%%\n"
    }
   }
  },
  {
   "cell_type": "markdown",
   "source": [
    "# Построение модели"
   ],
   "metadata": {
    "collapsed": false,
    "pycharm": {
     "name": "#%% md\n"
    }
   }
  },
  {
   "cell_type": "markdown",
   "source": [
    "Для создания модели ранжирования воспользуемся CatBoostRanker."
   ],
   "metadata": {
    "collapsed": false,
    "pycharm": {
     "name": "#%% md\n"
    }
   }
  },
  {
   "cell_type": "code",
   "execution_count": 14,
   "outputs": [],
   "source": [
    "# Отделим таргеты\n",
    "X = df_train.copy()\n",
    "y = X.pop('target')\n",
    "\n",
    "X_test = df_test.copy()\n",
    "y_test = X_test.pop('target')"
   ],
   "metadata": {
    "collapsed": false,
    "pycharm": {
     "name": "#%%\n"
    }
   }
  },
  {
   "cell_type": "markdown",
   "source": [
    "Создадим валидационный датасет для подбора гиперпараметров. Используем стратификацию и GroupKFold для того, чтобы обеспечить одинаковое распределения таргета в тестовой и валидационной выборках, а также для того, чтобы запросы (queries) не разбивались во время сплита и целиком входили либо в train, либо в val."
   ],
   "metadata": {
    "collapsed": false,
    "pycharm": {
     "name": "#%% md\n"
    }
   }
  },
  {
   "cell_type": "code",
   "execution_count": 15,
   "outputs": [],
   "source": [
    "# Создадим валидационный датасет для подбора гиперпараметров\n",
    "sgkf = StratifiedGroupKFold(n_splits=5)\n",
    "\n",
    "groups = X['search_id'].tolist()\n",
    "g = sgkf.split(X, y, groups)\n",
    "\n",
    "# Берем первый фолд - так обеспечивается распределение 80/20\n",
    "# val включает в себя ~3к значений, что вдвое больше теста\n",
    "train_idx, val_idx = next(g)\n",
    "X_train, X_val = X.iloc[train_idx], X.iloc[val_idx]\n",
    "y_train, y_val = y.iloc[train_idx], y.iloc[val_idx]"
   ],
   "metadata": {
    "collapsed": false,
    "pycharm": {
     "name": "#%%\n"
    }
   }
  },
  {
   "cell_type": "code",
   "execution_count": 16,
   "outputs": [],
   "source": [
    "# Удалим search_id\n",
    "queries_train = X_train['search_id'].tolist()\n",
    "queries_val = X_val['search_id'].tolist()\n",
    "queries_test = X_test['search_id'].tolist()\n",
    "\n",
    "X_train.pop('search_id')\n",
    "X_val.pop('search_id')\n",
    "X_test.pop('search_id')\n",
    "pass"
   ],
   "metadata": {
    "collapsed": false,
    "pycharm": {
     "name": "#%%\n"
    }
   }
  },
  {
   "cell_type": "code",
   "execution_count": 17,
   "outputs": [],
   "source": [
    "# Создадим пулы - структуру данных, которая используется в CatBoost\n",
    "train_pool = Pool(data=X_train,\n",
    "                  label=y_train,\n",
    "                  group_id=queries_train,\n",
    "                  cat_features=probably_categorical_list)\n",
    "val_pool = Pool(data=X_val,\n",
    "                label=y_val,\n",
    "                group_id=queries_val,\n",
    "                cat_features=probably_categorical_list)\n",
    "test_pool = Pool(data=X_test,\n",
    "                 label=y_test,\n",
    "                 group_id=queries_test,\n",
    "                 cat_features=probably_categorical_list)"
   ],
   "metadata": {
    "collapsed": false,
    "pycharm": {
     "name": "#%%\n"
    }
   }
  },
  {
   "cell_type": "markdown",
   "source": [
    "Посмотрим, какая из функций потерь показывает лучший результат метрики NDCG."
   ],
   "metadata": {
    "collapsed": false,
    "pycharm": {
     "name": "#%% md\n"
    }
   }
  },
  {
   "cell_type": "code",
   "execution_count": 18,
   "outputs": [
    {
     "name": "stdout",
     "output_type": "stream",
     "text": [
      "StochasticFilter, NDCG=0.88, t=8.38\n",
      "PairLogit, NDCG=0.881, t=5.29\n",
      "PairLogitPairwise, NDCG=0.869, t=73.68\n",
      "LambdaMart, NDCG=0.888, t=1.91\n",
      "QueryRMSE, NDCG=0.875, t=1.92\n",
      "QuerySoftMax, NDCG=0.88, t=13.03\n",
      "YetiRank, NDCG=0.884, t=2.87\n",
      "YetiRankPairwise, NDCG=0.881, t=26.41\n"
     ]
    }
   ],
   "source": [
    "loss_functions = ['StochasticFilter', 'PairLogit', 'PairLogitPairwise', 'LambdaMart',\n",
    "                  'QueryRMSE', 'QuerySoftMax', 'YetiRank', 'YetiRankPairwise',]\n",
    "results = []\n",
    "\n",
    "# Обучим несколько ранжирующих моделей\n",
    "for loss_function in loss_functions:\n",
    "    t0 = time()\n",
    "    rnkr = CatBoostRanker(custom_metric=['NDCG'],\n",
    "                          random_state=RANDOM_STATE,\n",
    "                          iterations=500,\n",
    "                          loss_function=loss_function,\n",
    "                          verbose=False)\n",
    "\n",
    "    rnkr.fit(train_pool, eval_set=val_pool)\n",
    "    score = round(rnkr.score(val_pool), 3)\n",
    "    print(f'{loss_function}, NDCG={score}, t={round(time()-t0, 2)}')\n",
    "    results.append((loss_function, score))"
   ],
   "metadata": {
    "collapsed": false,
    "pycharm": {
     "name": "#%%\n"
    }
   }
  },
  {
   "cell_type": "markdown",
   "source": [
    "Наилучший результат показывает модель, использующая LambdaMart."
   ],
   "metadata": {
    "collapsed": false,
    "pycharm": {
     "name": "#%% md\n"
    }
   }
  },
  {
   "cell_type": "code",
   "execution_count": 19,
   "outputs": [
    {
     "name": "stdout",
     "output_type": "stream",
     "text": [
      "Groupwise loss function. OneHotMaxSize set to 10\n",
      "0:\ttest: 0.8525803\tbest: 0.8525803 (0)\ttotal: 4.36ms\tremaining: 2.18s\n",
      "50:\ttest: 0.8827896\tbest: 0.8836569 (31)\ttotal: 188ms\tremaining: 1.65s\n",
      "100:\ttest: 0.8850166\tbest: 0.8881081 (89)\ttotal: 419ms\tremaining: 1.66s\n",
      "150:\ttest: 0.8843020\tbest: 0.8881081 (89)\ttotal: 610ms\tremaining: 1.41s\n",
      "200:\ttest: 0.8849481\tbest: 0.8881081 (89)\ttotal: 818ms\tremaining: 1.22s\n",
      "250:\ttest: 0.8834978\tbest: 0.8881081 (89)\ttotal: 1.01s\tremaining: 999ms\n",
      "300:\ttest: 0.8822042\tbest: 0.8881081 (89)\ttotal: 1.19s\tremaining: 787ms\n",
      "350:\ttest: 0.8851783\tbest: 0.8881081 (89)\ttotal: 1.39s\tremaining: 590ms\n",
      "400:\ttest: 0.8834402\tbest: 0.8881081 (89)\ttotal: 1.61s\tremaining: 397ms\n",
      "450:\ttest: 0.8836695\tbest: 0.8881081 (89)\ttotal: 1.87s\tremaining: 203ms\n",
      "499:\ttest: 0.8838802\tbest: 0.8881081 (89)\ttotal: 2.1s\tremaining: 0us\n",
      "\n",
      "bestTest = 0.8881081248\n",
      "bestIteration = 89\n",
      "\n",
      "Shrink model to first 90 iterations.\n"
     ]
    },
    {
     "data": {
      "text/plain": "<catboost.core.CatBoostRanker at 0x175a5a3ca30>"
     },
     "execution_count": 19,
     "metadata": {},
     "output_type": "execute_result"
    }
   ],
   "source": [
    "# Обучим модель с лоссом LambdaMart\n",
    "rnkr = CatBoostRanker(custom_metric=['NDCG'],\n",
    "                      random_state=RANDOM_STATE,\n",
    "                      iterations=500,\n",
    "                      loss_function='LambdaMart',\n",
    "                      verbose=50)\n",
    "\n",
    "rnkr.fit(train_pool, eval_set=val_pool)"
   ],
   "metadata": {
    "collapsed": false,
    "pycharm": {
     "name": "#%%\n"
    }
   }
  },
  {
   "cell_type": "markdown",
   "source": [
    "# Предсказание на тестовой выборке"
   ],
   "metadata": {
    "collapsed": false,
    "pycharm": {
     "name": "#%% md\n"
    }
   }
  },
  {
   "cell_type": "markdown",
   "source": [
    "Расчитаем NDCG на тесте и сохраним предсказание в файл.\n",
    "Согласно документации CatBoost, метод score() класса CatBoostRanker считает именно эту метрику."
   ],
   "metadata": {
    "collapsed": false,
    "pycharm": {
     "name": "#%% md\n"
    }
   }
  },
  {
   "cell_type": "code",
   "execution_count": 20,
   "outputs": [
    {
     "data": {
      "text/plain": "0.91"
     },
     "execution_count": 20,
     "metadata": {},
     "output_type": "execute_result"
    }
   ],
   "source": [
    "# NDCG на тестовом датасете\n",
    "round(rnkr.score(test_pool), 2)"
   ],
   "metadata": {
    "collapsed": false,
    "pycharm": {
     "name": "#%%\n"
    }
   }
  },
  {
   "cell_type": "markdown",
   "source": [
    "Мы получили довольно высокий NDCG. Альтернативно можно было бы посчитать через ndcg_score() из sklearn, но в таком случае придется группировать значения в списке по каждому запросу и обрабатывать случаи, когда в запросе нет ненулевых таргетов (такие запросы сильно понижают средний NDCG по датасету). По всей видимости, CatBoost.score() не берет в расчет эти случаи."
   ],
   "metadata": {
    "collapsed": false,
    "pycharm": {
     "name": "#%% md\n"
    }
   }
  },
  {
   "cell_type": "code",
   "execution_count": 21,
   "outputs": [
    {
     "data": {
      "text/plain": "      search_id   ranking  target\n0         10655 -0.470215       0\n1         10655 -0.456435       0\n2         10655 -0.428377       0\n3         10655 -0.376507       0\n4         10655 -0.448321       0\n...         ...       ...     ...\n1524     493078  0.061529       0\n1525     493078 -0.109732       0\n1526     493078  0.011676       1\n1527     493078 -0.109732       1\n1528     493078  0.050760       0\n\n[1529 rows x 3 columns]",
      "text/html": "<div>\n<style scoped>\n    .dataframe tbody tr th:only-of-type {\n        vertical-align: middle;\n    }\n\n    .dataframe tbody tr th {\n        vertical-align: top;\n    }\n\n    .dataframe thead th {\n        text-align: right;\n    }\n</style>\n<table border=\"1\" class=\"dataframe\">\n  <thead>\n    <tr style=\"text-align: right;\">\n      <th></th>\n      <th>search_id</th>\n      <th>ranking</th>\n      <th>target</th>\n    </tr>\n  </thead>\n  <tbody>\n    <tr>\n      <th>0</th>\n      <td>10655</td>\n      <td>-0.470215</td>\n      <td>0</td>\n    </tr>\n    <tr>\n      <th>1</th>\n      <td>10655</td>\n      <td>-0.456435</td>\n      <td>0</td>\n    </tr>\n    <tr>\n      <th>2</th>\n      <td>10655</td>\n      <td>-0.428377</td>\n      <td>0</td>\n    </tr>\n    <tr>\n      <th>3</th>\n      <td>10655</td>\n      <td>-0.376507</td>\n      <td>0</td>\n    </tr>\n    <tr>\n      <th>4</th>\n      <td>10655</td>\n      <td>-0.448321</td>\n      <td>0</td>\n    </tr>\n    <tr>\n      <th>...</th>\n      <td>...</td>\n      <td>...</td>\n      <td>...</td>\n    </tr>\n    <tr>\n      <th>1524</th>\n      <td>493078</td>\n      <td>0.061529</td>\n      <td>0</td>\n    </tr>\n    <tr>\n      <th>1525</th>\n      <td>493078</td>\n      <td>-0.109732</td>\n      <td>0</td>\n    </tr>\n    <tr>\n      <th>1526</th>\n      <td>493078</td>\n      <td>0.011676</td>\n      <td>1</td>\n    </tr>\n    <tr>\n      <th>1527</th>\n      <td>493078</td>\n      <td>-0.109732</td>\n      <td>1</td>\n    </tr>\n    <tr>\n      <th>1528</th>\n      <td>493078</td>\n      <td>0.050760</td>\n      <td>0</td>\n    </tr>\n  </tbody>\n</table>\n<p>1529 rows × 3 columns</p>\n</div>"
     },
     "execution_count": 21,
     "metadata": {},
     "output_type": "execute_result"
    }
   ],
   "source": [
    "# Добавим ранжирование в тестовый датасет\n",
    "predictions = pd.concat([df_test['search_id'],\n",
    "                        pd.DataFrame(rnkr.predict(test_pool),\n",
    "                                     columns=['ranking']),\n",
    "                        df_test['target']], axis=1)\n",
    "predictions"
   ],
   "metadata": {
    "collapsed": false,
    "pycharm": {
     "name": "#%%\n"
    }
   }
  },
  {
   "cell_type": "code",
   "execution_count": 22,
   "outputs": [],
   "source": [
    "# Сохраним в файл\n",
    "predictions.to_csv('predictions.txt', header=True, index=False)"
   ],
   "metadata": {
    "collapsed": false,
    "pycharm": {
     "name": "#%%\n"
    }
   }
  }
 ],
 "metadata": {
  "kernelspec": {
   "display_name": "Python 3",
   "language": "python",
   "name": "python3"
  },
  "language_info": {
   "codemirror_mode": {
    "name": "ipython",
    "version": 2
   },
   "file_extension": ".py",
   "mimetype": "text/x-python",
   "name": "python",
   "nbconvert_exporter": "python",
   "pygments_lexer": "ipython2",
   "version": "2.7.6"
  }
 },
 "nbformat": 4,
 "nbformat_minor": 0
}